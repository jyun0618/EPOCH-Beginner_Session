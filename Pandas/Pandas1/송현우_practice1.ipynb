{
 "cells": [
  {
   "cell_type": "markdown",
   "id": "721a1425",
   "metadata": {},
   "source": [
    "### Pandas - Series\n",
    "\n",
    "데이터와 인덱스를 함께 저장하는 자료구조"
   ]
  },
  {
   "cell_type": "code",
   "execution_count": 1,
   "id": "d5c13ad4",
   "metadata": {},
   "outputs": [
    {
     "name": "stdout",
     "output_type": "stream",
     "text": [
      "Requirement already satisfied: pandas in c:\\users\\송현우\\appdata\\local\\programs\\python\\python312\\lib\\site-packages (2.2.3)\n",
      "Requirement already satisfied: numpy>=1.26.0 in c:\\users\\송현우\\appdata\\local\\programs\\python\\python312\\lib\\site-packages (from pandas) (2.1.2)\n",
      "Requirement already satisfied: python-dateutil>=2.8.2 in c:\\users\\송현우\\appdata\\local\\programs\\python\\python312\\lib\\site-packages (from pandas) (2.9.0.post0)\n",
      "Requirement already satisfied: pytz>=2020.1 in c:\\users\\송현우\\appdata\\local\\programs\\python\\python312\\lib\\site-packages (from pandas) (2024.2)\n",
      "Requirement already satisfied: tzdata>=2022.7 in c:\\users\\송현우\\appdata\\local\\programs\\python\\python312\\lib\\site-packages (from pandas) (2024.2)\n",
      "Requirement already satisfied: six>=1.5 in c:\\users\\송현우\\appdata\\local\\programs\\python\\python312\\lib\\site-packages (from python-dateutil>=2.8.2->pandas) (1.16.0)\n"
     ]
    },
    {
     "name": "stderr",
     "output_type": "stream",
     "text": [
      "\n",
      "[notice] A new release of pip is available: 24.0 -> 25.2\n",
      "[notice] To update, run: python.exe -m pip install --upgrade pip\n"
     ]
    }
   ],
   "source": [
    "!pip install pandas\n"
   ]
  },
  {
   "cell_type": "markdown",
   "id": "fd80cdd0",
   "metadata": {},
   "source": [
    "리스트를 인자로 넘겨서 생성"
   ]
  },
  {
   "cell_type": "code",
   "execution_count": 2,
   "id": "ffc1cf14",
   "metadata": {},
   "outputs": [
    {
     "name": "stdout",
     "output_type": "stream",
     "text": [
      "0    10\n",
      "1    20\n",
      "2    30\n",
      "dtype: int64\n"
     ]
    }
   ],
   "source": [
    "from pandas import Series\n",
    "\n",
    "data = [10, 20, 30]\n",
    "s = Series(data)\n",
    "print(s)"
   ]
  },
  {
   "cell_type": "markdown",
   "id": "1e23a05b",
   "metadata": {},
   "source": [
    "넘파이를 사용해서 생성할 수도 있음"
   ]
  },
  {
   "cell_type": "code",
   "execution_count": 3,
   "id": "637137c5",
   "metadata": {},
   "outputs": [
    {
     "name": "stdout",
     "output_type": "stream",
     "text": [
      "0    0\n",
      "1    1\n",
      "2    2\n",
      "3    3\n",
      "4    4\n",
      "dtype: int64\n"
     ]
    }
   ],
   "source": [
    "import numpy as np\n",
    "\n",
    "data = np.arange(5)\n",
    "s = Series(data)\n",
    "print(s)"
   ]
  },
  {
   "cell_type": "markdown",
   "id": "3d43915f",
   "metadata": {},
   "source": [
    "인덱스의 default는 0부터 시작하는 숫자   \n",
    "index라는 변수엔 구간 정보를 저장하고 있음"
   ]
  },
  {
   "cell_type": "code",
   "execution_count": 4,
   "id": "f5a336b9",
   "metadata": {},
   "outputs": [
    {
     "name": "stdout",
     "output_type": "stream",
     "text": [
      "RangeIndex(start=0, stop=3, step=1)\n",
      "[0, 1, 2]\n"
     ]
    }
   ],
   "source": [
    "data = [1000, 2000, 3000]\n",
    "s = Series(data)\n",
    "print(s.index)\n",
    "print(s.index.to_list())"
   ]
  },
  {
   "cell_type": "markdown",
   "id": "0960634c",
   "metadata": {},
   "source": [
    "인덱스를 지정해보자"
   ]
  },
  {
   "cell_type": "code",
   "execution_count": 5,
   "id": "9495e91c",
   "metadata": {},
   "outputs": [
    {
     "name": "stdout",
     "output_type": "stream",
     "text": [
      "감자     1000\n",
      "고구마    2000\n",
      "치킨     3000\n",
      "dtype: int64\n"
     ]
    }
   ],
   "source": [
    "s.index = ['감자', '고구마', '치킨']\n",
    "print(s)"
   ]
  },
  {
   "cell_type": "markdown",
   "id": "158e51d2",
   "metadata": {},
   "source": [
    "생성할 때 인덱스와 함께 생성할 수도 있다."
   ]
  },
  {
   "cell_type": "code",
   "execution_count": 6,
   "id": "1d0364e5",
   "metadata": {},
   "outputs": [
    {
     "name": "stdout",
     "output_type": "stream",
     "text": [
      "쇼유    15\n",
      "미소    25\n",
      "시오    35\n",
      "dtype: int64\n"
     ]
    }
   ],
   "source": [
    "data = [15, 25, 35]\n",
    "index = ['쇼유','미소','시오']\n",
    "print(Series(data, index))"
   ]
  },
  {
   "cell_type": "markdown",
   "id": "41ed3e01",
   "metadata": {},
   "source": [
    "기본적인 Series의 생성자 구조   \n",
    "```python Class Series:\n",
    "    def __init__(self, data=None, index=None), ....) :\n",
    "즉 시작할 때 data와 index를 지정해줄 수 있다 !!"
   ]
  },
  {
   "cell_type": "code",
   "execution_count": 7,
   "id": "7526d57c",
   "metadata": {},
   "outputs": [
    {
     "name": "stdout",
     "output_type": "stream",
     "text": [
      "쇼유    15\n",
      "미소    25\n",
      "시오    35\n",
      "dtype: int64\n"
     ]
    }
   ],
   "source": [
    "s = Series(index = index, data=data)\n",
    "print(s)"
   ]
  },
  {
   "cell_type": "markdown",
   "id": "04d65f41",
   "metadata": {},
   "source": [
    "인덱스를 다시 지정해줄 수도 있다"
   ]
  },
  {
   "cell_type": "code",
   "execution_count": 8,
   "id": "5812055e",
   "metadata": {},
   "outputs": [],
   "source": [
    "index = ['쇼유', '라멘', '시오']\n",
    "s2 = s.reindex(index)"
   ]
  },
  {
   "cell_type": "markdown",
   "id": "d21e4e84",
   "metadata": {},
   "source": [
    "이와같이 새로운 인덱스엔 NaN값이 들어감   \n",
    "이를 fillna 메소드를 사용해 결측치를 채울 수 있다"
   ]
  },
  {
   "cell_type": "code",
   "execution_count": 9,
   "id": "4aecd6e8",
   "metadata": {},
   "outputs": [
    {
     "name": "stdout",
     "output_type": "stream",
     "text": [
      "쇼유    15\n",
      "미소    25\n",
      "시오    35\n",
      "dtype: int64\n"
     ]
    }
   ],
   "source": [
    "s2 = s.fillna(0)\n",
    "print(s2)"
   ]
  },
  {
   "cell_type": "markdown",
   "id": "4f73894c",
   "metadata": {},
   "source": [
    "물론 시리즈를 만들 때도 가능하다!   \n",
    "fill_value로 인자를 넘기면 된다."
   ]
  },
  {
   "cell_type": "code",
   "execution_count": 10,
   "id": "7715266c",
   "metadata": {},
   "outputs": [
    {
     "name": "stdout",
     "output_type": "stream",
     "text": [
      "쇼유    15\n",
      "라멘     0\n",
      "시오    35\n",
      "dtype: int64\n"
     ]
    }
   ],
   "source": [
    "s2 = s.reindex(index, fill_value=0)\n",
    "print(s2)"
   ]
  },
  {
   "cell_type": "markdown",
   "id": "9bea2d2d",
   "metadata": {},
   "source": [
    "딕셔너리를 사용해 시리즈를 한 번에 만들 수도 있다.   \n",
    "딕셔너리의 key가 인덱스 value가 데이터가 된다."
   ]
  },
  {
   "cell_type": "code",
   "execution_count": 11,
   "id": "218f82f8",
   "metadata": {},
   "outputs": [
    {
     "name": "stdout",
     "output_type": "stream",
     "text": [
      "2019-05-31    42500\n",
      "2019-05-30    42550\n",
      "2019-05-29    41000\n",
      "2019-05-28    42550\n",
      "2019-05-27    42650\n",
      "dtype: int64\n",
      "Index(['2019-05-31', '2019-05-30', '2019-05-29', '2019-05-28', '2019-05-27'], dtype='object')\n",
      "object\n"
     ]
    }
   ],
   "source": [
    "data = {\n",
    "    \"2019-05-31\" : 42500,\n",
    "    \"2019-05-30\" : 42550,\n",
    "    \"2019-05-29\" : 41000,\n",
    "    \"2019-05-28\" : 42550,\n",
    "    \"2019-05-27\" : 42650\n",
    "}\n",
    "s = Series(data)\n",
    "print(s)\n",
    "print(s.index)\n",
    "print(s.index.dtype)\n"
   ]
  },
  {
   "cell_type": "markdown",
   "id": "62c1c060",
   "metadata": {},
   "source": [
    "시리즈에서 데이터를 가져오고 싶을 땐?   \n",
    "values 변수를 사용하자"
   ]
  },
  {
   "cell_type": "code",
   "execution_count": 12,
   "id": "be93523c",
   "metadata": {},
   "outputs": [
    {
     "name": "stdout",
     "output_type": "stream",
     "text": [
      "[42500 42550 41000 42550 42650]\n"
     ]
    }
   ],
   "source": [
    "print(s.values)"
   ]
  },
  {
   "cell_type": "markdown",
   "id": "317733d5",
   "metadata": {},
   "source": [
    "시리즈는 생성될 때 행 번호도 같이 부여됨.   \n",
    "따라서 행 번호를 사용해 리스트처럼 인덱싱 할 수도 있다."
   ]
  },
  {
   "cell_type": "code",
   "execution_count": 13,
   "id": "c65033f4",
   "metadata": {},
   "outputs": [
    {
     "name": "stdout",
     "output_type": "stream",
     "text": [
      "1000\n",
      "3000\n"
     ]
    }
   ],
   "source": [
    "data = [1000, 2000,  3000]\n",
    "s = Series(data)\n",
    "\n",
    "print(s.iloc[0])\n",
    "print(s.iloc[2])"
   ]
  },
  {
   "cell_type": "markdown",
   "id": "b0a64262",
   "metadata": {},
   "source": [
    "loc이라는 메소드는 라벨 기반의 인덱싱이다.   \n",
    "행/열의 label로 접근한다.   \n",
    "즉 인덱스를 사용한다"
   ]
  },
  {
   "cell_type": "code",
   "execution_count": 14,
   "id": "3ddc7a29",
   "metadata": {},
   "outputs": [
    {
     "name": "stdout",
     "output_type": "stream",
     "text": [
      "1000\n"
     ]
    }
   ],
   "source": [
    "print(s.loc[0])"
   ]
  },
  {
   "cell_type": "markdown",
   "id": "329efe93",
   "metadata": {},
   "source": [
    "iloc은 행 번호를 사용한다"
   ]
  },
  {
   "cell_type": "code",
   "execution_count": 15,
   "id": "da92ceec",
   "metadata": {},
   "outputs": [
    {
     "name": "stdout",
     "output_type": "stream",
     "text": [
      "1000\n",
      "1000\n"
     ]
    }
   ],
   "source": [
    "index = [\"메로나\", \"구구콘\", \"하겐다즈\"]\n",
    "s = Series(data, index)\n",
    "print(s.iloc[0])\n",
    "print(s.loc['메로나'])\n",
    "#print(s.loc[0]) 에러"
   ]
  },
  {
   "cell_type": "markdown",
   "id": "d8efa804",
   "metadata": {},
   "source": [
    "시리즈의 [ ]기호도 인덱싱으로 사용할 수 있는데   \n",
    "내부적으로 loc 연산을 호출한다."
   ]
  },
  {
   "cell_type": "code",
   "execution_count": 16,
   "id": "7fb84cb8",
   "metadata": {},
   "outputs": [
    {
     "name": "stdout",
     "output_type": "stream",
     "text": [
      "10\n"
     ]
    }
   ],
   "source": [
    "s1 = Series([10, 20, 30])\n",
    "s2 = Series([10, 20, 30], index=[1, 2, 3])\n",
    "print(s1[0])\n",
    "# print(s2[0]) 인덱스가 1, 2, 3으로 맵핑되었으므로 호출이 안됨"
   ]
  },
  {
   "cell_type": "markdown",
   "id": "b5ba9402",
   "metadata": {},
   "source": [
    "슬라이싱 또한 파이썬과 비슷하게 사용 가능하다.  \n",
    "다만 loc 연산은 기존과 다르게 끝값도 닫힌 구간이다."
   ]
  },
  {
   "cell_type": "code",
   "execution_count": 17,
   "id": "8454cbd3",
   "metadata": {},
   "outputs": [
    {
     "name": "stdout",
     "output_type": "stream",
     "text": [
      "메로나     1000\n",
      "구구콘     2000\n",
      "하겐다즈    3000\n",
      "dtype: int64\n"
     ]
    }
   ],
   "source": [
    "data = [1000, 2000, 3000]\n",
    "index = [\"메로나\", \"구구콘\", \"하겐다즈\"]\n",
    "s = Series(data, index)\n",
    "print(s.loc['메로나' : '하겐다즈'])"
   ]
  },
  {
   "cell_type": "markdown",
   "id": "0cfe474a",
   "metadata": {},
   "source": [
    "시리즈의 수정은 loc, iloc으로 접근하여 변경하면 된다.   \n",
    "인덱스가 존재하지 않다면 새로운 값이 추가된다."
   ]
  },
  {
   "cell_type": "code",
   "execution_count": 18,
   "id": "8172e6b0",
   "metadata": {},
   "outputs": [
    {
     "name": "stdout",
     "output_type": "stream",
     "text": [
      "메로나      500\n",
      "구구콘     2000\n",
      "하겐다즈    3000\n",
      "dtype: int64\n",
      "메로나      500\n",
      "구구콘     2000\n",
      "하겐다즈    3000\n",
      "누가바     1500\n",
      "dtype: int64\n"
     ]
    }
   ],
   "source": [
    "s.loc['메로나'] = 500\n",
    "print(s)\n",
    "s.loc['누가바'] = 1500\n",
    "print(s)"
   ]
  },
  {
   "cell_type": "markdown",
   "id": "25ec6d4e",
   "metadata": {},
   "source": [
    "값의 삭제는 drop 메소드를 사용한다.   \n",
    "drop의 인자로는 인덱스가 들어간다(행번호 x)   \n",
    "삭제 후에 새로운 객체를 반환하기 때문에 주의가 필요"
   ]
  },
  {
   "cell_type": "code",
   "execution_count": 19,
   "id": "9623c7a1",
   "metadata": {},
   "outputs": [
    {
     "name": "stdout",
     "output_type": "stream",
     "text": [
      "구구콘     2000\n",
      "하겐다즈    3000\n",
      "누가바     1500\n",
      "dtype: int64\n",
      "메로나      500\n",
      "구구콘     2000\n",
      "하겐다즈    3000\n",
      "누가바     1500\n",
      "dtype: int64\n"
     ]
    }
   ],
   "source": [
    "print(s.drop('메로나'))\n",
    "# print(s.drop((0))) 에러\n",
    "print(s)"
   ]
  },
  {
   "cell_type": "markdown",
   "id": "fae0a989",
   "metadata": {},
   "source": [
    "시리즈 연산   \n",
    "브로드캐스팅이 적용 되고, 같은 인덱스를 갖는 데이터 끼리 연산을 수행한다."
   ]
  },
  {
   "cell_type": "code",
   "execution_count": 20,
   "id": "39a37378",
   "metadata": {},
   "outputs": [
    {
     "name": "stdout",
     "output_type": "stream",
     "text": [
      "Naver    20\n",
      "SKT      50\n",
      "KT       70\n",
      "dtype: int64\n",
      "Naver    200\n",
      "SKT      500\n",
      "KT       700\n",
      "dtype: int64\n"
     ]
    }
   ],
   "source": [
    "serah = Series([10,20,30], index=[\"Naver\", \"SKT\", \"KT\"])\n",
    "emmah = Series([10,30,40], index=[\"Naver\", \"SKT\", \"KT\"])\n",
    "sum = serah + emmah\n",
    "print(sum)\n",
    "print(sum*10)"
   ]
  },
  {
   "cell_type": "code",
   "execution_count": 21,
   "id": "cfa721d6",
   "metadata": {},
   "outputs": [
    {
     "name": "stdout",
     "output_type": "stream",
     "text": [
      "0    650\n",
      "1    550\n",
      "2    750\n",
      "3    800\n",
      "4    650\n",
      "dtype: int64\n"
     ]
    }
   ],
   "source": [
    "high = Series([42800, 42700, 42050, 42950, 43000])\n",
    "low = Series([42150, 42150, 41300, 42150, 42350])\n",
    "diff = high - low\n",
    "print(diff)"
   ]
  },
  {
   "cell_type": "markdown",
   "id": "825fe3fd",
   "metadata": {},
   "source": [
    "최대, 최소는 max, min을 사용하면 된다.   \n",
    "최대일 때의 인덱스를 반환하기 위해선 idxmax, idxmin을 사용하자"
   ]
  },
  {
   "cell_type": "markdown",
   "id": "47f6d515",
   "metadata": {},
   "source": [
    "날짜를 인덱스로 갖는 시리즈에서 변통이 가장 큰 날짜 찾기"
   ]
  },
  {
   "cell_type": "code",
   "execution_count": 22,
   "id": "83235224",
   "metadata": {},
   "outputs": [
    {
     "name": "stdout",
     "output_type": "stream",
     "text": [
      "6/4\n"
     ]
    }
   ],
   "source": [
    "date = Series([\"6/1\", \"6/2\", \"6/3\", \"6/4\", \"6/5\"])\n",
    "high = Series([42800, 42700, 42050, 42950, 43000], index = date)\n",
    "low = Series([42150, 42150, 41300, 42150, 42350], index = date)\n",
    "diff = high-low\n",
    "print(diff.idxmax())"
   ]
  },
  {
   "cell_type": "markdown",
   "id": "9cc72408",
   "metadata": {},
   "source": [
    "매일 저가에 사서, 고가에 팔았을 경우의 수익률을 계산해보자.   \n"
   ]
  },
  {
   "cell_type": "code",
   "execution_count": 23,
   "id": "fb714a86",
   "metadata": {},
   "outputs": [
    {
     "name": "stdout",
     "output_type": "stream",
     "text": [
      "6/1    1.015421\n",
      "6/2    1.013049\n",
      "6/3    1.018160\n",
      "6/4    1.018980\n",
      "6/5    1.015348\n",
      "dtype: float64\n"
     ]
    }
   ],
   "source": [
    "profit = high/low\n",
    "print(profit)"
   ]
  },
  {
   "cell_type": "markdown",
   "id": "bda79ad2",
   "metadata": {},
   "source": [
    "하루하루의 수익률밖에 계산되지 않는다.   \n",
    "누적수익률을 구하려면 cumprod를 사용하자"
   ]
  },
  {
   "cell_type": "code",
   "execution_count": 24,
   "id": "59ddabc7",
   "metadata": {},
   "outputs": [
    {
     "name": "stdout",
     "output_type": "stream",
     "text": [
      "6/1    1.015421\n",
      "6/2    1.028671\n",
      "6/3    1.047351\n",
      "6/4    1.067230\n",
      "6/5    1.083610\n",
      "dtype: float64\n",
      "1.0836101509172456\n"
     ]
    }
   ],
   "source": [
    "print(profit.cumprod())\n",
    "print(profit.cumprod().iloc[-1])"
   ]
  },
  {
   "cell_type": "markdown",
   "id": "40b89f06",
   "metadata": {},
   "source": [
    "중복되는 데이터를 제거한 set의 효과를 얻고 싶다면   \n",
    "unique를 사용하자."
   ]
  },
  {
   "cell_type": "code",
   "execution_count": 25,
   "id": "14c97c38",
   "metadata": {},
   "outputs": [
    {
     "name": "stdout",
     "output_type": "stream",
     "text": [
      "['한식' '양식' '일식']\n"
     ]
    }
   ],
   "source": [
    "data = {\n",
    "    \"김치\" : \"한식\",\n",
    "    \"피자\" : \"양식\",\n",
    "    \"스시\" : \"일식\",\n",
    "    \"비빔밥\" : \"한식\",\n",
    "    \"치킨\" : \"한식\"\n",
    "}\n",
    "s = Series(data)\n",
    "print(s.unique())"
   ]
  },
  {
   "cell_type": "markdown",
   "id": "4a72e761",
   "metadata": {},
   "source": [
    "시리즈 안에 음식 종류가 몇 번 존재하는지 count   \n",
    "value_counts를 사용하면 간단히 출력 가능하다."
   ]
  },
  {
   "cell_type": "code",
   "execution_count": 26,
   "id": "2a8ebb4c",
   "metadata": {},
   "outputs": [
    {
     "data": {
      "text/plain": [
       "한식    3\n",
       "양식    1\n",
       "일식    1\n",
       "Name: count, dtype: int64"
      ]
     },
     "execution_count": 26,
     "metadata": {},
     "output_type": "execute_result"
    }
   ],
   "source": [
    "s.value_counts()"
   ]
  },
  {
   "cell_type": "markdown",
   "id": "f2948a05",
   "metadata": {},
   "source": [
    "map또한 존재한다.   \n",
    "map 메소드에서 함수를 호출하는 것이 아닌, 이름만 입력해야 한다."
   ]
  },
  {
   "cell_type": "code",
   "execution_count": 27,
   "id": "afd8dc5a",
   "metadata": {},
   "outputs": [
    {
     "name": "stdout",
     "output_type": "stream",
     "text": [
      "0    1234\n",
      "1    5678\n",
      "2    9876\n",
      "dtype: int64\n"
     ]
    }
   ],
   "source": [
    "def remove_comma(x):\n",
    "    return int(x.replace(\",\", \"\"))\n",
    "s = Series([\"1,234\", \"5,678\", \"9876\"])\n",
    "result = s.map(remove_comma)\n",
    "print(result)"
   ]
  },
  {
   "cell_type": "markdown",
   "id": "4082dbdd",
   "metadata": {},
   "source": [
    "시리즈 필터링"
   ]
  },
  {
   "cell_type": "code",
   "execution_count": 28,
   "id": "49b07e44",
   "metadata": {},
   "outputs": [
    {
     "name": "stdout",
     "output_type": "stream",
     "text": [
      "2019-05-31     True\n",
      "2019-05-30     True\n",
      "2019-05-29    False\n",
      "2019-05-28     True\n",
      "2019-05-27     True\n",
      "dtype: bool\n"
     ]
    }
   ],
   "source": [
    "data = {\n",
    "    \"2019-05-31\" : 42500,\n",
    "    \"2019-05-30\" : 42550,\n",
    "    \"2019-05-29\" : 41000,\n",
    "    \"2019-05-28\" : 42550,\n",
    "    \"2019-05-27\" : 42650\n",
    "}\n",
    "s = Series(data)\n",
    "cond = s > 42000\n",
    "print(cond)"
   ]
  },
  {
   "cell_type": "markdown",
   "id": "d2f6961c",
   "metadata": {},
   "source": [
    "이러한 True 또는 False를 이용해서 색인하는 것을 Boolean Indexing이라고 한다.   \n",
    "종가가 42000원을 넘는 데이터만 다시 출력하는 것이다.   \n",
    "단, 두 시리즈의 인덱스가 다르다면 연산이 제대로 작동되지 않는다."
   ]
  },
  {
   "cell_type": "code",
   "execution_count": 29,
   "id": "02a64af9",
   "metadata": {},
   "outputs": [
    {
     "name": "stdout",
     "output_type": "stream",
     "text": [
      "2019-05-31    42500\n",
      "2019-05-30    42550\n",
      "2019-05-28    42550\n",
      "2019-05-27    42650\n",
      "dtype: int64\n"
     ]
    }
   ],
   "source": [
    "print(s[cond])"
   ]
  },
  {
   "cell_type": "code",
   "execution_count": 30,
   "id": "6d4ed11f",
   "metadata": {},
   "outputs": [
    {
     "name": "stdout",
     "output_type": "stream",
     "text": [
      "6/1    650\n",
      "6/2    550\n",
      "6/3    750\n",
      "6/4    800\n",
      "6/5    650\n",
      "dtype: int64\n"
     ]
    }
   ],
   "source": [
    "date = Series([\"6/1\", \"6/2\", \"6/3\", \"6/4\", \"6/5\"])\n",
    "high = Series([42800, 42700, 42050, 42950, 43000], index = date)\n",
    "low = Series([42150, 42150, 41300, 42150, 42350], index = date)\n",
    "diff = high-low\n",
    "print(diff[high>low])"
   ]
  },
  {
   "cell_type": "markdown",
   "id": "d2a4fe87",
   "metadata": {},
   "source": [
    "시리즈는 sort_values라는 자체 정렬 메소드를 가지고 있다.   \n",
    "**데이터**를 기준으로 **오름차순**으로 정렬된다.   \n",
    "내림차순으로 하고 싶다면 ascending=False를 추가하면 된다."
   ]
  },
  {
   "cell_type": "code",
   "execution_count": 31,
   "id": "96e1ad7d",
   "metadata": {},
   "outputs": [
    {
     "name": "stdout",
     "output_type": "stream",
     "text": [
      "000010     3.1\n",
      "000020     2.0\n",
      "000030    10.1\n",
      "000040     5.1\n",
      "dtype: float64\n",
      "000020     2.0\n",
      "000010     3.1\n",
      "000040     5.1\n",
      "000030    10.1\n",
      "dtype: float64\n",
      "000030    10.1\n",
      "000040     5.1\n",
      "000010     3.1\n",
      "000020     2.0\n",
      "dtype: float64\n"
     ]
    }
   ],
   "source": [
    "data = [3.1, 2.0, 10.1, 5.1]\n",
    "index = ['000010', '000020', '000030', '000040']\n",
    "s = Series(data, index)\n",
    "print(s)\n",
    "\n",
    "s1 = s.sort_values()\n",
    "print(s1)\n",
    "\n",
    "s2 = s.sort_values(ascending=False)\n",
    "print(s2)"
   ]
  },
  {
   "cell_type": "markdown",
   "id": "42e1965c",
   "metadata": {},
   "source": [
    "시리즈 객체의 순위를 매기기 위해선 rank를 사용한다.   \n",
    "기본적으로 값이 작은 데이터를 1순위로 지정하고, 중복을 표현하기 위해 float로 표현한다.   \n",
    "값이 큰 데이터를 1등으로 매기려면 ascending=False를 추가하면 된다."
   ]
  },
  {
   "cell_type": "code",
   "execution_count": 32,
   "id": "47494608",
   "metadata": {},
   "outputs": [
    {
     "name": "stdout",
     "output_type": "stream",
     "text": [
      "000020    1.0\n",
      "000010    2.0\n",
      "000040    3.0\n",
      "000030    4.0\n",
      "dtype: float64\n",
      "000020    4.0\n",
      "000010    3.0\n",
      "000040    2.0\n",
      "000030    1.0\n",
      "dtype: float64\n"
     ]
    }
   ],
   "source": [
    "print(s1.rank())\n",
    "print(s1.rank(ascending=False))"
   ]
  }
 ],
 "metadata": {
  "kernelspec": {
   "display_name": "Python 3",
   "language": "python",
   "name": "python3"
  },
  "language_info": {
   "codemirror_mode": {
    "name": "ipython",
    "version": 3
   },
   "file_extension": ".py",
   "mimetype": "text/x-python",
   "name": "python",
   "nbconvert_exporter": "python",
   "pygments_lexer": "ipython3",
   "version": "3.12.4"
  }
 },
 "nbformat": 4,
 "nbformat_minor": 5
}
