{
 "cells": [
  {
   "cell_type": "markdown",
   "id": "6730236e",
   "metadata": {},
   "source": [
    "데이터프레임은 2차원 데이터를 위한 자료구조다.   \n",
    "주로 딕셔너리, 리스트, 혹은 둘 다 이용하여 데이터프레임을 생성한다."
   ]
  },
  {
   "cell_type": "code",
   "execution_count": 1,
   "id": "3d547b53",
   "metadata": {},
   "outputs": [
    {
     "name": "stdout",
     "output_type": "stream",
     "text": [
      "     종목코드    종목명   현재가\n",
      "0  037730     3R  1510\n",
      "1  036360  3S0FT  1790\n",
      "2  005760   ACTS  1185\n"
     ]
    }
   ],
   "source": [
    "from pandas import DataFrame\n",
    "# 딕서너리로 표현하는 방법\n",
    "data = {\n",
    "    '종목코드' : ['037730', '036360', '005760'],\n",
    "    '종목명' : ['3R', '3S0FT', 'ACTS'],\n",
    "    '현재가' : [1510, 1790, 1185]\n",
    "}\n",
    "\n",
    "df = DataFrame(data)\n",
    "print(df)"
   ]
  },
  {
   "cell_type": "code",
   "execution_count": 2,
   "id": "e7db6631",
   "metadata": {},
   "outputs": [
    {
     "name": "stdout",
     "output_type": "stream",
     "text": [
      "     종목코드    종목명   현재가\n",
      "0  037730     3R  1510\n",
      "1  036360  3SOFT  1790\n",
      "2  005760   ACTS  1185\n"
     ]
    }
   ],
   "source": [
    "# 2차원 리스트를 사용하여 표현하는 방법\n",
    "\n",
    "data = [\n",
    "    ['037730', \"3R\", 1510],\n",
    "    ['036360', \"3SOFT\", 1790],\n",
    "    ['005760', \"ACTS\", 1185]\n",
    "]\n",
    "columns = [\"종목코드\", \"종목명\", \"현재가\"]\n",
    "\n",
    "df = DataFrame(data= data, columns=columns)\n",
    "print(df)"
   ]
  },
  {
   "cell_type": "code",
   "execution_count": 3,
   "id": "3231dd16",
   "metadata": {},
   "outputs": [
    {
     "name": "stdout",
     "output_type": "stream",
     "text": [
      "     종목코드    종목명   현재가\n",
      "0  037730     3R  1510\n",
      "1  036360  3SOFT  1790\n",
      "2  005760   ACTS  1185\n"
     ]
    }
   ],
   "source": [
    "# 딕셔너리 리스트\n",
    "data = [\n",
    "    {\"종목코드\" : \"037730\", '종목명' : '3R', '현재가' : 1510 },\n",
    "    {\"종목코드\" : \"036360\", '종목명' : '3SOFT', '현재가' : 1790 },\n",
    "    {\"종목코드\" : \"005760\", '종목명' : 'ACTS', '현재가' : 1185 }\n",
    "]\n",
    "\n",
    "df = DataFrame(data=data)\n",
    "print(df)"
   ]
  },
  {
   "cell_type": "markdown",
   "id": "18509861",
   "metadata": {},
   "source": [
    "데이터프레임에서 데이터를 구분하는 것 역시 인덱스   \n",
    "지정하지 않는다면 시리즈와 마찬가지로 자동으로 부여된다.   \n",
    "set_index를 사용한다면 새로운 인덱스가 설정된 새 데이터프레임을 리턴한다.   \n",
    "인자로 inplace=True를 넣어주면 원본 데이터프레임에 반영된다."
   ]
  },
  {
   "cell_type": "code",
   "execution_count": 4,
   "id": "df51decb",
   "metadata": {},
   "outputs": [
    {
     "name": "stdout",
     "output_type": "stream",
     "text": [
      "          종목명   현재가\n",
      "종목코드               \n",
      "037730     3R  1510\n",
      "036360  3SOFT  1790\n",
      "005760   ACTS  1185\n"
     ]
    }
   ],
   "source": [
    "data = [\n",
    "    ['037730', \"3R\", 1510],\n",
    "    ['036360', \"3SOFT\", 1790],\n",
    "    ['005760', \"ACTS\", 1185]\n",
    "]\n",
    "columns = [\"종목코드\", \"종목명\", \"현재가\"]\n",
    "\n",
    "df = DataFrame(data= data, columns=columns)\n",
    "\n",
    "df = df.set_index('종목코드')\n",
    "print(df)"
   ]
  },
  {
   "cell_type": "markdown",
   "id": "ce40e1e4",
   "metadata": {},
   "source": [
    "인덱스를 데이터와 별도로 지정할 수도 있다.   \n",
    "index.name을 지정해주면 된다."
   ]
  },
  {
   "cell_type": "code",
   "execution_count": 5,
   "id": "1a11ddc2",
   "metadata": {},
   "outputs": [
    {
     "name": "stdout",
     "output_type": "stream",
     "text": [
      "        종목코드    종목명   현재가\n",
      "종목코드                     \n",
      "0     037730     3R  1510\n",
      "1     036360  3SOFT  1790\n",
      "2     005760   ACTS  1185\n"
     ]
    }
   ],
   "source": [
    "data = [\n",
    "    ['037730', \"3R\", 1510],\n",
    "    ['036360', \"3SOFT\", 1790],\n",
    "    ['005760', \"ACTS\", 1185]\n",
    "]\n",
    "columns = [\"종목코드\", \"종목명\", \"현재가\"]\n",
    "\n",
    "df = DataFrame(data= data, columns=columns)\n",
    "df.index.name =\"종목코드\"\n",
    "print(df)"
   ]
  },
  {
   "cell_type": "markdown",
   "id": "1c54ef11",
   "metadata": {},
   "source": [
    "데이터프레임은 low, column 단위로 모두 인덱싱이 가능하다.   \n",
    "파이썬의 기본적인 [ ]은 column 단위로 인덱싱한다.   \n",
    "리스트 안에 컬럼의 이름을 넣고 한번에 인덱싱 할 수도 있다."
   ]
  },
  {
   "cell_type": "code",
   "execution_count": 6,
   "id": "42d44651",
   "metadata": {},
   "outputs": [
    {
     "name": "stdout",
     "output_type": "stream",
     "text": [
      "037730    1510\n",
      "036360    1790\n",
      "005760    1185\n",
      "Name: 현재가, dtype: int64\n",
      "         현재가   현재가\n",
      "037730  1510  1510\n",
      "036360  1790  1790\n",
      "005760  1185  1185\n"
     ]
    }
   ],
   "source": [
    "data = [\n",
    "    [ \"3R\", 1510, 7.36],\n",
    "    [\"3SOFT\", 1790, 1.65],\n",
    "    [\"ACTS\", 1185, 1.28]\n",
    "]\n",
    "\n",
    "index = [\"037730\", \"036360\", \"005760\"]\n",
    "columns = [\"종목명\", \"현재가\", \"등락률\"]\n",
    "\n",
    "df = DataFrame(data=data, index=index, columns=columns)\n",
    "print(df['현재가'])\n",
    "print(df[['현재가', '현재가']])"
   ]
  },
  {
   "cell_type": "markdown",
   "id": "67f80ca8",
   "metadata": {},
   "source": [
    "low단위의 인덱싱은 iloc과 loc을 사용한다.   \n",
    "loc : 인덱스 기준으로 추출   \n",
    "iloc : 행 번호를 기준으로 추출"
   ]
  },
  {
   "cell_type": "code",
   "execution_count": 7,
   "id": "be8a218f",
   "metadata": {},
   "outputs": [
    {
     "name": "stdout",
     "output_type": "stream",
     "text": [
      "종목명      3R\n",
      "현재가    1510\n",
      "등락률    7.36\n",
      "Name: 037730, dtype: object\n",
      "종목명    ACTS\n",
      "현재가    1185\n",
      "등락률    1.28\n",
      "Name: 005760, dtype: object\n"
     ]
    }
   ],
   "source": [
    "data = [\n",
    "    [ \"3R\", 1510, 7.36],\n",
    "    [\"3SOFT\", 1790, 1.65],\n",
    "    [\"ACTS\", 1185, 1.28]\n",
    "]\n",
    "\n",
    "index = [\"037730\", \"036360\", \"005760\"]\n",
    "columns = [\"종목명\", \"현재가\", \"등락률\"]\n",
    "\n",
    "df = DataFrame(data= data, index=index, columns=columns)\n",
    "print(df.loc[\"037730\"])\n",
    "print(df.iloc[-1])"
   ]
  },
  {
   "cell_type": "markdown",
   "id": "96248a7f",
   "metadata": {},
   "source": [
    "특정 하나의 값을 가져오려면 column, low를 지정해주면 된다.   \n",
    "혹은 loc 속성에 low, column을 순서대로 입력해도 된다."
   ]
  },
  {
   "cell_type": "code",
   "execution_count": 8,
   "id": "f20fe274",
   "metadata": {},
   "outputs": [
    {
     "name": "stdout",
     "output_type": "stream",
     "text": [
      "7.36\n",
      "1510\n",
      "7.36\n",
      "\n",
      "1510\n",
      "1510\n"
     ]
    }
   ],
   "source": [
    "data = [\n",
    "    [ \"3R\", 1510, 7.36],\n",
    "    [\"3SOFT\", 1790, 1.65],\n",
    "    [\"ACTS\", 1185, 1.28]\n",
    "]\n",
    "\n",
    "index = [\"037730\", \"036360\", \"005760\"]\n",
    "columns = [\"종목명\", \"현재가\", \"등락률\"]\n",
    "\n",
    "df = DataFrame(data= data, index=index, columns=columns)\n",
    "\n",
    "print(df.iloc[0].iloc[-1])\n",
    "print(df.iloc[0].loc['현재가'])\n",
    "print(df.iloc[0][\"등락률\"])\n",
    "\n",
    "print()\n",
    "\n",
    "print(df.loc[\"037730\", \"현재가\"])\n",
    "print(df.iloc[0, 1])"
   ]
  },
  {
   "cell_type": "markdown",
   "id": "fa1388cb",
   "metadata": {},
   "source": [
    "특정 범위를 가져오려면 첫 앞서 나온 리스트를 활용하면 된다."
   ]
  },
  {
   "cell_type": "code",
   "execution_count": 9,
   "id": "753216e2",
   "metadata": {},
   "outputs": [
    {
     "name": "stdout",
     "output_type": "stream",
     "text": [
      "          종목명   현재가\n",
      "037730     3R  1510\n",
      "036360  3SOFT  1790\n"
     ]
    }
   ],
   "source": [
    "data = [\n",
    "    [ \"3R\", 1510, 7.36],\n",
    "    [\"3SOFT\", 1790, 1.65],\n",
    "    [\"ACTS\", 1185, 1.28]\n",
    "]\n",
    "\n",
    "index = [\"037730\", \"036360\", \"005760\"]\n",
    "columns = [\"종목명\", \"현재가\", \"등락률\"]\n",
    "\n",
    "df = DataFrame(data= data, index=index, columns=columns)\n",
    "\n",
    "df = df.loc[[\"037730\",\"036360\"]]\n",
    "df = df[[\"종목명\", \"현재가\"]]\n",
    "print(df)"
   ]
  },
  {
   "cell_type": "markdown",
   "id": "e9835a91",
   "metadata": {},
   "source": [
    "Boolean Indexing 역시 Series와 비슷하다."
   ]
  },
  {
   "cell_type": "code",
   "execution_count": 10,
   "id": "8a241464",
   "metadata": {},
   "outputs": [
    {
     "name": "stdout",
     "output_type": "stream",
     "text": [
      "          종목명   현재가   등락률\n",
      "037730     3R  1510  7.36\n",
      "036360  3SOFT  1790  1.65\n",
      "037730    1510\n",
      "036360    1790\n",
      "Name: 현재가, dtype: int64\n",
      "037730    1510\n",
      "036360    1790\n",
      "Name: 현재가, dtype: int64\n"
     ]
    }
   ],
   "source": [
    "data = [\n",
    "    [ \"3R\", 1510, 7.36],\n",
    "    [\"3SOFT\", 1790, 1.65],\n",
    "    [\"ACTS\", 1185, 1.28]\n",
    "]\n",
    "\n",
    "index = [\"037730\", \"036360\", \"005760\"]\n",
    "columns = [\"종목명\", \"현재가\", \"등락률\"]\n",
    "\n",
    "df = DataFrame(data= data, index=index, columns=columns)\n",
    "cond = df['현재가'] >= 1400\n",
    "print(df.loc[cond])\n",
    "print(df.loc[cond][\"현재가\"])\n",
    "print(df.loc[cond, \"현재가\"])"
   ]
  },
  {
   "cell_type": "markdown",
   "id": "00ce5c6b",
   "metadata": {},
   "source": [
    "&, |, ~ 등의 논리연산자를 활용해도 된다."
   ]
  },
  {
   "cell_type": "code",
   "execution_count": 11,
   "id": "72e0ee9c",
   "metadata": {},
   "outputs": [
    {
     "name": "stdout",
     "output_type": "stream",
     "text": [
      "       종목명   현재가   등락률\n",
      "037730  3R  1510  7.36\n",
      "          종목명   현재가   등락률\n",
      "036360  3SOFT  1790  1.65\n",
      "005760   ACTS  1185  1.28\n"
     ]
    }
   ],
   "source": [
    "cond = (df['현재가'] >= 1400) & (df['현재가'] < 1700)\n",
    "print(df.loc[cond])\n",
    "print(df.loc[~cond])"
   ]
  }
 ],
 "metadata": {
  "kernelspec": {
   "display_name": "Python 3",
   "language": "python",
   "name": "python3"
  },
  "language_info": {
   "codemirror_mode": {
    "name": "ipython",
    "version": 3
   },
   "file_extension": ".py",
   "mimetype": "text/x-python",
   "name": "python",
   "nbconvert_exporter": "python",
   "pygments_lexer": "ipython3",
   "version": "3.12.4"
  }
 },
 "nbformat": 4,
 "nbformat_minor": 5
}
