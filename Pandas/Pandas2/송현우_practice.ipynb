{
 "cells": [
  {
   "cell_type": "markdown",
   "id": "8eb8a303",
   "metadata": {},
   "source": [
    "데이터 프레임에 컬럼 추가"
   ]
  },
  {
   "cell_type": "code",
   "execution_count": 5,
   "id": "c1179a60",
   "metadata": {},
   "outputs": [],
   "source": [
    "from pandas import DataFrame, Series\n",
    "data = [\n",
    "    [ \"3R\", 1510, 7.36],\n",
    "    [\"3SOFT\", 1790, 1.65],\n",
    "    [\"ACTS\", 1185, 1.28]\n",
    "]\n",
    "\n",
    "index = [\"037730\", \"036360\", \"005760\"]\n",
    "columns = [\"종목명\", \"현재가\", \"등락률\"]\n",
    "df = DataFrame(data=data, index=index, columns=columns)"
   ]
  },
  {
   "cell_type": "markdown",
   "id": "5d5a3715",
   "metadata": {},
   "source": [
    "'목표가'라는 이름의 컬럼을 추가하기 위해선, Datafram에 같은 인덱스를 갖는 series가 필요하다.   \n",
    "따라서 시리즈를 생성할 때 인덱스를 전달하고, 다음과 같이 데이터프레임에 시리즈가 추가된다."
   ]
  },
  {
   "cell_type": "code",
   "execution_count": 9,
   "id": "e24dd259",
   "metadata": {},
   "outputs": [
    {
     "name": "stdout",
     "output_type": "stream",
     "text": [
      "          종목명   현재가   등락률   목표가\n",
      "037730     3R  1510  7.36  1600\n",
      "036360  3SOFT  1790  1.65  1600\n",
      "005760   ACTS  1185  1.28  1600\n"
     ]
    }
   ],
   "source": [
    "s = Series(data=[1600, 1600, 1600], index=df.index)\n",
    "df['목표가'] = s\n",
    "print(df)"
   ]
  },
  {
   "cell_type": "markdown",
   "id": "ce1cadc3",
   "metadata": {},
   "source": [
    "시리즈의 값을 구성하는 과정 없이, 추가될 커럼의 이름과 데이터만 입력해도 같은 결과를 얻을 수 있다."
   ]
  },
  {
   "cell_type": "code",
   "execution_count": 10,
   "id": "052ef2ec",
   "metadata": {},
   "outputs": [
    {
     "name": "stdout",
     "output_type": "stream",
     "text": [
      "          종목명   현재가   등락률   목표가\n",
      "037730     3R  1510  7.36  1600\n",
      "036360  3SOFT  1790  1.65  1600\n",
      "005760   ACTS  1185  1.28  1600\n"
     ]
    }
   ],
   "source": [
    "from pandas import DataFrame, Series\n",
    "data = [\n",
    "    [ \"3R\", 1510, 7.36],\n",
    "    [\"3SOFT\", 1790, 1.65],\n",
    "    [\"ACTS\", 1185, 1.28]\n",
    "]\n",
    "\n",
    "index = [\"037730\", \"036360\", \"005760\"]\n",
    "columns = [\"종목명\", \"현재가\", \"등락률\"]\n",
    "df = DataFrame(data=data, index=index, columns=columns)\n",
    "df['목표가'] = 1600\n",
    "print(df)"
   ]
  },
  {
   "cell_type": "markdown",
   "id": "c3f08bae",
   "metadata": {},
   "source": [
    "기존 시리즈의 연산을 통해서도 컬럼을 추가할 수 있다."
   ]
  },
  {
   "cell_type": "code",
   "execution_count": 11,
   "id": "4024c605",
   "metadata": {},
   "outputs": [
    {
     "name": "stdout",
     "output_type": "stream",
     "text": [
      "          종목명   현재가   등락률   목표가       괴리율\n",
      "037730     3R  1510  7.36  1600  0.059603\n",
      "036360  3SOFT  1790  1.65  1600 -0.106145\n",
      "005760   ACTS  1185  1.28  1600  0.350211\n"
     ]
    }
   ],
   "source": [
    "df[\"괴리율\"] = (df['목표가'] - df[\"현재가\"]) / df['현재가']\n",
    "print(df)"
   ]
  },
  {
   "cell_type": "markdown",
   "id": "f1da9a02",
   "metadata": {},
   "source": [
    "로우 추가하기   \n",
    "추가할 로우를 하나의 시리즈로 표현하려면 객체의 인덱스가 Dataframe의 컬럼명이 되어야 한다."
   ]
  },
  {
   "cell_type": "code",
   "execution_count": 13,
   "id": "cd6e5b93",
   "metadata": {},
   "outputs": [
    {
     "name": "stdout",
     "output_type": "stream",
     "text": [
      "          종목명    현재가   등락률\n",
      "037730     3R   1510  7.36\n",
      "036360  3SOFT   1790  1.65\n",
      "005760   ACTS   1185  1.28\n",
      "066570   LG전자  60000  3.84\n"
     ]
    }
   ],
   "source": [
    "from pandas import DataFrame, Series\n",
    "data = [\n",
    "    [ \"3R\", 1510, 7.36],\n",
    "    [\"3SOFT\", 1790, 1.65],\n",
    "    [\"ACTS\", 1185, 1.28]\n",
    "]\n",
    "\n",
    "index = [\"037730\", \"036360\", \"005760\"]\n",
    "columns = [\"종목명\", \"현재가\", \"등락률\"]\n",
    "df = DataFrame(data=data, index=index, columns=columns)\n",
    "\n",
    "s = Series(data=[\"LG전자\", 60000, 3.84], index=df.columns)\n",
    "df.loc[\"066570\"] = s\n",
    "print(df)"
   ]
  },
  {
   "cell_type": "markdown",
   "id": "c9895453",
   "metadata": {},
   "source": [
    "loc 속성으로 066570이름의 인덱스에 LG전자의 데이터를 입력하면 간단히 표현할 수 있다.   \n",
    "이 경우는 우변이리스트를 시리즈로 변경하고, 데이터프레임과 같은 컬럼 레이블을 갖도록 자동 변환한다."
   ]
  },
  {
   "cell_type": "code",
   "execution_count": 15,
   "id": "c40ed78d",
   "metadata": {},
   "outputs": [
    {
     "name": "stdout",
     "output_type": "stream",
     "text": [
      "          종목명    현재가   등락률\n",
      "037730     3R   1510  7.36\n",
      "036360  3SOFT   1790  1.65\n",
      "005760   ACTS   1185  1.28\n",
      "066570   LG전자  60000  3.84\n"
     ]
    }
   ],
   "source": [
    "from pandas import DataFrame, Series\n",
    "data = [\n",
    "    [ \"3R\", 1510, 7.36],\n",
    "    [\"3SOFT\", 1790, 1.65],\n",
    "    [\"ACTS\", 1185, 1.28]\n",
    "]\n",
    "\n",
    "index = [\"037730\", \"036360\", \"005760\"]\n",
    "columns = [\"종목명\", \"현재가\", \"등락률\"]\n",
    "df = DataFrame(data=data, index=index, columns=columns)\n",
    "\n",
    "df.loc[\"066570\"] = [\"LG전자\", 60000, 3.84]\n",
    "print(df)"
   ]
  },
  {
   "cell_type": "markdown",
   "id": "fbdb684c",
   "metadata": {},
   "source": [
    "컬럼, 로우를 삭제할 땐 drop 메소드를 사용한다. axis1은 컬럼, axis0은 로우를 삭제한다 (축)"
   ]
  },
  {
   "cell_type": "code",
   "execution_count": 25,
   "id": "e86c1c2d",
   "metadata": {},
   "outputs": [
    {
     "name": "stdout",
     "output_type": "stream",
     "text": [
      "          종목명   현재가   등락률\n",
      "037730     3R  1510  7.36\n",
      "036360  3SOFT  1790  1.65\n",
      "005760   ACTS  1185  1.28\n",
      "          종목명   등락률\n",
      "037730     3R  7.36\n",
      "036360  3SOFT  1.65\n",
      "005760   ACTS  1.28\n",
      "          종목명   현재가   등락률\n",
      "036360  3SOFT  1790  1.65\n",
      "005760   ACTS  1185  1.28\n"
     ]
    }
   ],
   "source": [
    "from pandas import DataFrame, Series\n",
    "data = [\n",
    "    [ \"3R\", 1510, 7.36],\n",
    "    [\"3SOFT\", 1790, 1.65],\n",
    "    [\"ACTS\", 1185, 1.28]\n",
    "]\n",
    "\n",
    "index = [\"037730\", \"036360\", \"005760\"]\n",
    "columns = [\"종목명\", \"현재가\", \"등락률\"]\n",
    "df = DataFrame(data=data, index=index, columns=columns)\n",
    "\n",
    "df_new1 = df.drop(\"현재가\", axis=1)\n",
    "df_new2 = df.drop(\"037730\", axis=0)\n",
    "\n",
    "print(df)\n",
    "print(df_new1)\n",
    "print(df_new2)"
   ]
  },
  {
   "cell_type": "markdown",
   "id": "8b8f7734",
   "metadata": {},
   "source": [
    "원본에서 바로 삭제하고자 하면, inplace=True를 인자로 넘기면 된다."
   ]
  },
  {
   "cell_type": "code",
   "execution_count": 26,
   "id": "a9faf028",
   "metadata": {},
   "outputs": [
    {
     "name": "stdout",
     "output_type": "stream",
     "text": [
      "          종목명   현재가   등락률\n",
      "036360  3SOFT  1790  1.65\n",
      "005760   ACTS  1185  1.28\n"
     ]
    }
   ],
   "source": [
    "df.drop(\"037730\", axis=0, inplace=True)\n",
    "print(df)"
   ]
  },
  {
   "cell_type": "markdown",
   "id": "72abf176",
   "metadata": {},
   "source": [
    "컬럼 레이블 변경   \n",
    "이미 생성된 DF에서 컬럼과 인덱스의 이름을 수정하기 위해선   \n",
    "변경할 컬럼의 label을 정의하고 바인딩한다."
   ]
  },
  {
   "cell_type": "code",
   "execution_count": 28,
   "id": "426599af",
   "metadata": {},
   "outputs": [
    {
     "name": "stdout",
     "output_type": "stream",
     "text": [
      "         name  close  fluctuation\n",
      "code                             \n",
      "037730     3R   1510         7.36\n",
      "036360  3SOFT   1790         1.65\n",
      "005760   ACTS   1185         1.28\n"
     ]
    }
   ],
   "source": [
    "from pandas import DataFrame, Series\n",
    "data = [\n",
    "    [ \"3R\", 1510, 7.36],\n",
    "    [\"3SOFT\", 1790, 1.65],\n",
    "    [\"ACTS\", 1185, 1.28]\n",
    "]\n",
    "\n",
    "index = [\"037730\", \"036360\", \"005760\"]\n",
    "columns = [\"종목명\", \"현재가\", \"등락률\"]\n",
    "df = DataFrame(data=data, index=index, columns=columns)\n",
    "df.columns = ['name', 'close', 'fluctuation']\n",
    "df.index.name = 'code'\n",
    "print(df)"
   ]
  },
  {
   "cell_type": "markdown",
   "id": "0960ec92",
   "metadata": {},
   "source": [
    "rename 메소드를 사용해 변경할 수도 있다.   \n",
    " {}\"변경 전 이름\":\"변경 후 이름\"}과 같은 딕셔너리를 메서드의 인자로 쓰면 된다."
   ]
  },
  {
   "cell_type": "code",
   "execution_count": 30,
   "id": "ac2ea9c5",
   "metadata": {},
   "outputs": [
    {
     "name": "stdout",
     "output_type": "stream",
     "text": [
      "         code   현재가   등락률\n",
      "037730     3R  1510  7.36\n",
      "036360  3SOFT  1790  1.65\n",
      "005760   ACTS  1185  1.28\n"
     ]
    }
   ],
   "source": [
    "from pandas import DataFrame, Series\n",
    "data = [\n",
    "    [ \"3R\", 1510, 7.36],\n",
    "    [\"3SOFT\", 1790, 1.65],\n",
    "    [\"ACTS\", 1185, 1.28]\n",
    "]\n",
    "\n",
    "index = [\"037730\", \"036360\", \"005760\"]\n",
    "columns = [\"종목명\", \"현재가\", \"등락률\"]\n",
    "df = DataFrame(data=data, index=index, columns=columns)\n",
    "df.rename(columns={'종목명' : 'code'}, inplace=True)\n",
    "print(df)"
   ]
  },
  {
   "cell_type": "markdown",
   "id": "a2625b61",
   "metadata": {},
   "source": [
    "데이터 타입 변경   \n",
    "앞서 1주차에 배운 map 메소드를 사용한다."
   ]
  },
  {
   "cell_type": "code",
   "execution_count": 36,
   "id": "0ded509a",
   "metadata": {},
   "outputs": [
    {
     "name": "stdout",
     "output_type": "stream",
     "text": [
      "        03/02  03/03  03/04\n",
      "037730  1,000  1,100  1,510\n",
      "036360  1,410  1,420  1,790\n",
      "005760    850    900  1,185\n",
      "        03/02  03/03  03/04\n",
      "037730   1000  1,100  1,510\n",
      "036360   1410  1,420  1,790\n",
      "005760    850    900  1,185\n"
     ]
    }
   ],
   "source": [
    "from pandas import DataFrame, Series\n",
    "data = [\n",
    "    [\"1,000\", \"1,100\", \"1,510\"],\n",
    "    [\"1,410\", \"1,420\", \"1,790\"],\n",
    "    [\"850\", \"900\", \"1,185\"]\n",
    "]\n",
    "\n",
    "columns = [\"03/02\", \"03/03\", \"03/04\"]\n",
    "df = DataFrame(data=data, index=index, columns=columns)\n",
    "print(df)\n",
    "\n",
    "def remove_comma(x):\n",
    "    return int(x.replace(',',''))\n",
    "\n",
    "df['03/02'] = df[\"03/02\"].map(remove_comma)\n",
    "print(df)"
   ]
  },
  {
   "cell_type": "markdown",
   "id": "4bbaf4f8",
   "metadata": {},
   "source": [
    "컬럼의 문자열 다루기   \n",
    "pandas는 데이터의 여러 전처리를 지원한다   \n",
    "다음은 cd컬럼의 종목코드에서 A를 제거하는 것이다."
   ]
  },
  {
   "cell_type": "code",
   "execution_count": 49,
   "id": "1a47feca",
   "metadata": {},
   "outputs": [
    {
     "name": "stdout",
     "output_type": "stream",
     "text": [
      "       cd      nm   close\n",
      "0  060310      3S   2,920\n",
      "1  095570  AJ네트웍스   6,250\n",
      "2  006840   AK홀딩스  29,700\n",
      "3  054620  APS홀딩스  19,400\n"
     ]
    }
   ],
   "source": [
    "from pandas import DataFrame\n",
    "import numpy as np\n",
    "\n",
    "data = [\n",
    "    {\"cd\":\"A060310\",'nm':\"3S\", \"close\":\"2,920\"},\n",
    "    {\"cd\":\"A095570\",'nm':\"AJ네트웍스\", \"close\":\"6,250\"},\n",
    "    {\"cd\":\"A006840\",'nm':\"AK홀딩스\", \"close\":\"29,700\"},\n",
    "    {\"cd\":\"A054620\",'nm':\"APS홀딩스\", \"close\":\"19,400\"}\n",
    "    \n",
    "]\n",
    "df = DataFrame(data=data)\n",
    "df['cd'] = df['cd'].str[1:]\n",
    "print(df)"
   ]
  },
  {
   "cell_type": "markdown",
   "id": "d65b6a56",
   "metadata": {},
   "source": [
    "close 컬럼에 대해서 콤마를 제거할 것이다.   \n",
    "str.replace라는 파이썬의 문자열 메소드를 사용한다."
   ]
  },
  {
   "cell_type": "code",
   "execution_count": 48,
   "id": "89b70e15",
   "metadata": {},
   "outputs": [
    {
     "name": "stdout",
     "output_type": "stream",
     "text": [
      "       cd      nm  close\n",
      "0  060310      3S   2920\n",
      "1  095570  AJ네트웍스   6250\n",
      "2  054620  APS홀딩스  19400\n"
     ]
    }
   ],
   "source": [
    "df['close'] = df['close'].str.replace(',','').astype(np.int64)\n",
    "print(df)"
   ]
  },
  {
   "cell_type": "markdown",
   "id": "a0016ce2",
   "metadata": {},
   "source": [
    "DF에서 Boolean을 사용해 조건을 만든 후, 이를 사용해 필터링 하는 것처럼   \n",
    "query 메소드를 사용하면, 특정 조건에 부합하는 데이터를 쉽게 필터링할 수 있다.   \n",
    "@키워드를 사용하면 변수를 참조할 수 있다."
   ]
  },
  {
   "cell_type": "code",
   "execution_count": 59,
   "id": "c29cb2f4",
   "metadata": {},
   "outputs": [
    {
     "name": "stdout",
     "output_type": "stream",
     "text": [
      "             nm  open  close\n",
      "cd                          \n",
      "A060310      3S  2920   2800\n",
      "A095570  AJ네트웍스  1920   1900\n",
      "A006840   AK홀딩스  2020   2010\n",
      "A054620  APS홀딩스  3120   3200\n",
      "             nm  open  close\n",
      "cd                          \n",
      "A060310      3S  2920   2800\n",
      "A006840   AK홀딩스  2020   2010\n",
      "A054620  APS홀딩스  3120   3200\n",
      "         nm  open  close\n",
      "cd                      \n",
      "A060310  3S  2920   2800\n",
      "             nm  open  close\n",
      "cd                          \n",
      "A060310      3S  2920   2800\n",
      "A095570  AJ네트웍스  1920   1900\n",
      "A006840   AK홀딩스  2020   2010\n"
     ]
    },
    {
     "data": {
      "text/html": [
       "<div>\n",
       "<style scoped>\n",
       "    .dataframe tbody tr th:only-of-type {\n",
       "        vertical-align: middle;\n",
       "    }\n",
       "\n",
       "    .dataframe tbody tr th {\n",
       "        vertical-align: top;\n",
       "    }\n",
       "\n",
       "    .dataframe thead th {\n",
       "        text-align: right;\n",
       "    }\n",
       "</style>\n",
       "<table border=\"1\" class=\"dataframe\">\n",
       "  <thead>\n",
       "    <tr style=\"text-align: right;\">\n",
       "      <th></th>\n",
       "      <th>nm</th>\n",
       "      <th>open</th>\n",
       "      <th>close</th>\n",
       "    </tr>\n",
       "    <tr>\n",
       "      <th>cd</th>\n",
       "      <th></th>\n",
       "      <th></th>\n",
       "      <th></th>\n",
       "    </tr>\n",
       "  </thead>\n",
       "  <tbody>\n",
       "    <tr>\n",
       "      <th>A095570</th>\n",
       "      <td>AJ네트웍스</td>\n",
       "      <td>1920</td>\n",
       "      <td>1900</td>\n",
       "    </tr>\n",
       "  </tbody>\n",
       "</table>\n",
       "</div>"
      ],
      "text/plain": [
       "             nm  open  close\n",
       "cd                          \n",
       "A095570  AJ네트웍스  1920   1900"
      ]
     },
     "execution_count": 59,
     "metadata": {},
     "output_type": "execute_result"
    }
   ],
   "source": [
    "from pandas import DataFrame\n",
    "import numpy as np\n",
    "\n",
    "data = [\n",
    "    {\"cd\":\"A060310\",'nm':\"3S\", \"open\":2920, \"close\":2800},\n",
    "    {\"cd\":\"A095570\",'nm':\"AJ네트웍스\", \"open\":1920, \"close\":1900},\n",
    "    {\"cd\":\"A006840\",'nm':\"AK홀딩스\", \"open\":2020, \"close\":2010},\n",
    "    {\"cd\":\"A054620\",'nm':\"APS홀딩스\", \"open\":3120, \"close\":3200}\n",
    "]\n",
    "df = DataFrame(data=data)\n",
    "df = df.set_index('cd')\n",
    "print(df)\n",
    "\n",
    "cond = df['open'] >=2000\n",
    "print(df[cond])\n",
    "\n",
    "print(df.query(\"nm=='3S'\"))\n",
    "\n",
    "print(df[df[\"open\"]>df['close']])\n",
    "\n",
    "name = \"AJ네트웍스\"\n",
    "df.query('nm == @name')"
   ]
  },
  {
   "cell_type": "markdown",
   "id": "4c72e7b2",
   "metadata": {},
   "source": [
    "filter 메소드는 인덱스나 컬럼 이름에 대해 특정 조건으로 필터링 할 수 있다."
   ]
  },
  {
   "cell_type": "code",
   "execution_count": 65,
   "id": "9eb4b3ba",
   "metadata": {},
   "outputs": [
    {
     "name": "stdout",
     "output_type": "stream",
     "text": [
      "     2018/12  2019/12  2020/12  2021/12(E)\n",
      "DPS  1416.00  1416.00  2994.00     1755.00\n",
      "PER     6.42    17.63    21.09       13.93\n",
      "PBR     1.10     1.49     2.06        1.88\n",
      "     2018/12\n",
      "DPS  1416.00\n",
      "PER     6.42\n",
      "PBR     1.10\n",
      "     2018/12  2019/12  2020/12  2021/12(E)\n",
      "PER     6.42    17.63    21.09       13.93\n"
     ]
    }
   ],
   "source": [
    "from pandas import DataFrame\n",
    "data = [\n",
    "    [1416,1416,2994,1755],\n",
    "    [6.42,17.63,21.09,13.93],\n",
    "    [1.10,1.49,2.06,1.88]\n",
    "]\n",
    "columns = [\"2018/12\", \"2019/12\", \"2020/12\", \"2021/12(E)\"]\n",
    "index = [\"DPS\", \"PER\", \"PBR\"]\n",
    "df = DataFrame(data=data, index=index, columns=columns)\n",
    "print(df)\n",
    "print(df.filter(items=['2018/12']))\n",
    "print(df.filter(items=[\"PER\"], axis=0))"
   ]
  },
  {
   "cell_type": "markdown",
   "id": "44ea222e",
   "metadata": {},
   "source": [
    "여러 종목에 대해 백테스팅을 할 때, 회사별로 결산월이 다르다.   \n",
    "2020이라는 문자열 일부로 필터링이 필요하고, regex를 사용할 수 있다."
   ]
  },
  {
   "cell_type": "code",
   "execution_count": 67,
   "id": "28190e03",
   "metadata": {},
   "outputs": [
    {
     "data": {
      "text/html": [
       "<div>\n",
       "<style scoped>\n",
       "    .dataframe tbody tr th:only-of-type {\n",
       "        vertical-align: middle;\n",
       "    }\n",
       "\n",
       "    .dataframe tbody tr th {\n",
       "        vertical-align: top;\n",
       "    }\n",
       "\n",
       "    .dataframe thead th {\n",
       "        text-align: right;\n",
       "    }\n",
       "</style>\n",
       "<table border=\"1\" class=\"dataframe\">\n",
       "  <thead>\n",
       "    <tr style=\"text-align: right;\">\n",
       "      <th></th>\n",
       "      <th>2020/12</th>\n",
       "    </tr>\n",
       "  </thead>\n",
       "  <tbody>\n",
       "    <tr>\n",
       "      <th>DPS</th>\n",
       "      <td>2994.00</td>\n",
       "    </tr>\n",
       "    <tr>\n",
       "      <th>PER</th>\n",
       "      <td>21.09</td>\n",
       "    </tr>\n",
       "    <tr>\n",
       "      <th>PBR</th>\n",
       "      <td>2.06</td>\n",
       "    </tr>\n",
       "  </tbody>\n",
       "</table>\n",
       "</div>"
      ],
      "text/plain": [
       "     2020/12\n",
       "DPS  2994.00\n",
       "PER    21.09\n",
       "PBR     2.06"
      ]
     },
     "execution_count": 67,
     "metadata": {},
     "output_type": "execute_result"
    }
   ],
   "source": [
    "df.filter(regex=\"2020\")"
   ]
  },
  {
   "cell_type": "markdown",
   "id": "bbc44c6b",
   "metadata": {},
   "source": [
    "단순히 문자열의 패턴만 검색하면 원치 않는 값들이 함께 선택될 수 있다.   \n",
    "구체화하기위해 ^를 사용할 수 있고, ^2020은 2020으로 시작하는 패턴을 선택하라는 뜻이다.   \n",
    "또한 $는 $로 끝나는 패턴을 의미한다."
   ]
  },
  {
   "cell_type": "code",
   "execution_count": 68,
   "id": "92798ffd",
   "metadata": {},
   "outputs": [
    {
     "data": {
      "text/html": [
       "<div>\n",
       "<style scoped>\n",
       "    .dataframe tbody tr th:only-of-type {\n",
       "        vertical-align: middle;\n",
       "    }\n",
       "\n",
       "    .dataframe tbody tr th {\n",
       "        vertical-align: top;\n",
       "    }\n",
       "\n",
       "    .dataframe thead th {\n",
       "        text-align: right;\n",
       "    }\n",
       "</style>\n",
       "<table border=\"1\" class=\"dataframe\">\n",
       "  <thead>\n",
       "    <tr style=\"text-align: right;\">\n",
       "      <th></th>\n",
       "      <th>2020/12</th>\n",
       "    </tr>\n",
       "  </thead>\n",
       "  <tbody>\n",
       "    <tr>\n",
       "      <th>DPS</th>\n",
       "      <td>2994.00</td>\n",
       "    </tr>\n",
       "    <tr>\n",
       "      <th>PER</th>\n",
       "      <td>21.09</td>\n",
       "    </tr>\n",
       "    <tr>\n",
       "      <th>PBR</th>\n",
       "      <td>2.06</td>\n",
       "    </tr>\n",
       "  </tbody>\n",
       "</table>\n",
       "</div>"
      ],
      "text/plain": [
       "     2020/12\n",
       "DPS  2994.00\n",
       "PER    21.09\n",
       "PBR     2.06"
      ]
     },
     "execution_count": 68,
     "metadata": {},
     "output_type": "execute_result"
    }
   ],
   "source": [
    "df.filter(regex=\"^2020\")"
   ]
  },
  {
   "cell_type": "code",
   "execution_count": 69,
   "id": "112c1a2b",
   "metadata": {},
   "outputs": [
    {
     "data": {
      "text/html": [
       "<div>\n",
       "<style scoped>\n",
       "    .dataframe tbody tr th:only-of-type {\n",
       "        vertical-align: middle;\n",
       "    }\n",
       "\n",
       "    .dataframe tbody tr th {\n",
       "        vertical-align: top;\n",
       "    }\n",
       "\n",
       "    .dataframe thead th {\n",
       "        text-align: right;\n",
       "    }\n",
       "</style>\n",
       "<table border=\"1\" class=\"dataframe\">\n",
       "  <thead>\n",
       "    <tr style=\"text-align: right;\">\n",
       "      <th></th>\n",
       "      <th>2018/12</th>\n",
       "      <th>2019/12</th>\n",
       "      <th>2020/12</th>\n",
       "      <th>2021/12(E)</th>\n",
       "    </tr>\n",
       "  </thead>\n",
       "  <tbody>\n",
       "    <tr>\n",
       "      <th>PER</th>\n",
       "      <td>6.42</td>\n",
       "      <td>17.63</td>\n",
       "      <td>21.09</td>\n",
       "      <td>13.93</td>\n",
       "    </tr>\n",
       "    <tr>\n",
       "      <th>PBR</th>\n",
       "      <td>1.10</td>\n",
       "      <td>1.49</td>\n",
       "      <td>2.06</td>\n",
       "      <td>1.88</td>\n",
       "    </tr>\n",
       "  </tbody>\n",
       "</table>\n",
       "</div>"
      ],
      "text/plain": [
       "     2018/12  2019/12  2020/12  2021/12(E)\n",
       "PER     6.42    17.63    21.09       13.93\n",
       "PBR     1.10     1.49     2.06        1.88"
      ]
     },
     "execution_count": 69,
     "metadata": {},
     "output_type": "execute_result"
    }
   ],
   "source": [
    "df.filter(regex=\"R$\", axis=0)"
   ]
  },
  {
   "cell_type": "markdown",
   "id": "f7416cbd",
   "metadata": {},
   "source": [
    "|d는 숫자를 의미하며, 중괄호로 출현 횟수를 지정할 수 있다.   \n",
    "숫자가 4개 연속해서 발생하는 문자열만 탐색할 수 있다."
   ]
  },
  {
   "cell_type": "code",
   "execution_count": 70,
   "id": "d4cecea9",
   "metadata": {},
   "outputs": [
    {
     "data": {
      "text/html": [
       "<div>\n",
       "<style scoped>\n",
       "    .dataframe tbody tr th:only-of-type {\n",
       "        vertical-align: middle;\n",
       "    }\n",
       "\n",
       "    .dataframe tbody tr th {\n",
       "        vertical-align: top;\n",
       "    }\n",
       "\n",
       "    .dataframe thead th {\n",
       "        text-align: right;\n",
       "    }\n",
       "</style>\n",
       "<table border=\"1\" class=\"dataframe\">\n",
       "  <thead>\n",
       "    <tr style=\"text-align: right;\">\n",
       "      <th></th>\n",
       "      <th>2018/12</th>\n",
       "      <th>2019/12</th>\n",
       "      <th>2020/12</th>\n",
       "      <th>2021/12(E)</th>\n",
       "    </tr>\n",
       "  </thead>\n",
       "  <tbody>\n",
       "    <tr>\n",
       "      <th>DPS</th>\n",
       "      <td>1416.00</td>\n",
       "      <td>1416.00</td>\n",
       "      <td>2994.00</td>\n",
       "      <td>1755.00</td>\n",
       "    </tr>\n",
       "    <tr>\n",
       "      <th>PER</th>\n",
       "      <td>6.42</td>\n",
       "      <td>17.63</td>\n",
       "      <td>21.09</td>\n",
       "      <td>13.93</td>\n",
       "    </tr>\n",
       "    <tr>\n",
       "      <th>PBR</th>\n",
       "      <td>1.10</td>\n",
       "      <td>1.49</td>\n",
       "      <td>2.06</td>\n",
       "      <td>1.88</td>\n",
       "    </tr>\n",
       "  </tbody>\n",
       "</table>\n",
       "</div>"
      ],
      "text/plain": [
       "     2018/12  2019/12  2020/12  2021/12(E)\n",
       "DPS  1416.00  1416.00  2994.00     1755.00\n",
       "PER     6.42    17.63    21.09       13.93\n",
       "PBR     1.10     1.49     2.06        1.88"
      ]
     },
     "execution_count": 70,
     "metadata": {},
     "output_type": "execute_result"
    }
   ],
   "source": [
    "df.filter(regex=\"|d{4}\")"
   ]
  },
  {
   "cell_type": "markdown",
   "id": "fefba3c0",
   "metadata": {},
   "source": [
    "정렬 및 순위   \n",
    "정렬 기준을 늘 정해줘야하고, 파라미터의 이름을 정해줄 수도 있다."
   ]
  },
  {
   "cell_type": "code",
   "execution_count": null,
   "id": "5ee62244",
   "metadata": {},
   "outputs": [],
   "source": [
    "data = [\n",
    "    ['037730', \"3R\", 1510],\n",
    "    ['036360', \"3SOFT\", 1790],\n",
    "    ['005760', \"ACTS\", 1185]\n",
    "]\n",
    "columns = [\"종목코드\", \"종목명\", \"현재가\"]\n",
    "\n",
    "df = DataFrame(data= data, columns=columns)\n",
    "df.set_index(\"종목코드\", inplace=True)\n"
   ]
  },
  {
   "cell_type": "code",
   "execution_count": 73,
   "id": "0dd0c085",
   "metadata": {},
   "outputs": [
    {
     "name": "stdout",
     "output_type": "stream",
     "text": [
      "          종목명   현재가\n",
      "종목코드               \n",
      "005760   ACTS  1185\n",
      "037730     3R  1510\n",
      "036360  3SOFT  1790\n",
      "          종목명   현재가\n",
      "종목코드               \n",
      "005760   ACTS  1185\n",
      "037730     3R  1510\n",
      "036360  3SOFT  1790\n"
     ]
    }
   ],
   "source": [
    "df2 = df.sort_values(\"현재가\")\n",
    "print(df2)\n",
    "\n",
    "df3 = df.sort_values(by = \"현재가\")\n",
    "print(df3)"
   ]
  },
  {
   "cell_type": "markdown",
   "id": "49833226",
   "metadata": {},
   "source": [
    "내림차순으로 정렬하기 위해선 ascending parameter를 추가하면 된다.   \n",
    "기본 값이 True이기 때문에 지정하지 않는다면 오름차순이다."
   ]
  },
  {
   "cell_type": "code",
   "execution_count": 74,
   "id": "4d12e998",
   "metadata": {},
   "outputs": [
    {
     "name": "stdout",
     "output_type": "stream",
     "text": [
      "          종목명   현재가\n",
      "종목코드               \n",
      "005760   ACTS  1185\n",
      "037730     3R  1510\n",
      "036360  3SOFT  1790\n"
     ]
    }
   ],
   "source": [
    "df4 = df.sort_values(by=\"현재가\", ascending=False)\n",
    "print(df2)"
   ]
  },
  {
   "cell_type": "markdown",
   "id": "c5ed3a0f",
   "metadata": {},
   "source": [
    "순위를 매길 땐 rank 메소드를 사용하면 된다."
   ]
  },
  {
   "cell_type": "code",
   "execution_count": 77,
   "id": "00ad2ae9",
   "metadata": {},
   "outputs": [
    {
     "name": "stdout",
     "output_type": "stream",
     "text": [
      "          종목명   현재가   순위\n",
      "종목코드                    \n",
      "037730     3R  1510  2.0\n",
      "036360  3SOFT  1790  3.0\n",
      "005760   ACTS  1185  1.0\n",
      "          종목명   현재가   순위\n",
      "종목코드                    \n",
      "005760   ACTS  1185  1.0\n",
      "037730     3R  1510  2.0\n",
      "036360  3SOFT  1790  3.0\n"
     ]
    }
   ],
   "source": [
    "df[\"순위\"] = df[\"현재가\"].rank()\n",
    "print(df)\n",
    "df.sort_values(by=\"순위\", inplace=True)\n",
    "print(df)"
   ]
  },
  {
   "cell_type": "markdown",
   "id": "9a6866dd",
   "metadata": {},
   "source": [
    "인덱스 연산   \n",
    "Pandas는 브로드캐스팅이 적용되어 반복문 없이 전체 데이터에 연산을 적용할 수 있다.   \n",
    "같은 인덱스 사이에 연산이 적용되기 때문에, 인덱스가 같은 지 비교할 필요가 있다.   \n",
    "union 메소드는 현재 인덱스와 현재 인덱스의 합집합을 반환한다."
   ]
  },
  {
   "cell_type": "code",
   "execution_count": 79,
   "id": "641f2c2b",
   "metadata": {},
   "outputs": [
    {
     "name": "stdout",
     "output_type": "stream",
     "text": [
      "<class 'pandas.core.indexes.base.Index'>\n"
     ]
    },
    {
     "data": {
      "text/plain": [
       "Index([1, 2, 3, 4], dtype='int64')"
      ]
     },
     "execution_count": 79,
     "metadata": {},
     "output_type": "execute_result"
    }
   ],
   "source": [
    "import pandas as pd\n",
    "\n",
    "idx1 = pd.Index([1,2,3])\n",
    "idx2 = pd.Index([2,3,4])\n",
    "print(type(idx1))\n",
    "idx1.union(idx2)"
   ]
  },
  {
   "cell_type": "markdown",
   "id": "6129847b",
   "metadata": {},
   "source": [
    "Groupby"
   ]
  },
  {
   "cell_type": "code",
   "execution_count": 83,
   "id": "dc6188f2",
   "metadata": {},
   "outputs": [
    {
     "name": "stdout",
     "output_type": "stream",
     "text": [
      "         테마      종목명    PER   PBR\n",
      "0  2차전지(생산)  SK이노베이션  10.19  1.29\n",
      "1        해운      팬오션  21.23  0.95\n",
      "2    시스템반도체     티엘아이  35.97  1.12\n",
      "3        해운      HMM  21.52  3.20\n",
      "4    시스템반도체     아이에이  37.32  3.55\n",
      "5  2차전지(생산)     LG화학  83.06  3.75\n"
     ]
    }
   ],
   "source": [
    "from pandas import DataFrame\n",
    "data = [\n",
    "    [\"2차전지(생산)\", \"SK이노베이션\", 10.19, 1.29],\n",
    "    [\"해운\", \"팬오션\", 21.23, 0.95],\n",
    "    [\"시스템반도체\", \"티엘아이\", 35.97, 1.12],\n",
    "    [\"해운\", \"HMM\", 21.52, 3.20],\n",
    "    [\"시스템반도체\", \"아이에이\", 37.32, 3.55], \n",
    "    [\"2차전지(생산)\", \"LG화학\", 83.06, 3.75]\n",
    "]\n",
    "columns = [\"테마\", \"종목명\", \"PER\", \"PBR\"]\n",
    "df = DataFrame(data=data, columns=columns)\n",
    "print(df)"
   ]
  },
  {
   "cell_type": "markdown",
   "id": "f8ad624e",
   "metadata": {},
   "source": [
    "다음 데이터에서 테마별로 PER와 PBR을 구하려면?   \n",
    "먼저 2차전지, 해운, 시스템반도체 세 그룹으로 종목을 분류해야한다.   \n",
    "이후 각 개체에서 평균값을 계산하기 위해 mean 메소드를 호출하고 새로운 시리즈를 만든다."
   ]
  },
  {
   "cell_type": "code",
   "execution_count": 85,
   "id": "8bbc6600",
   "metadata": {},
   "outputs": [
    {
     "name": "stdout",
     "output_type": "stream",
     "text": [
      "2차전지(생산)    46.625\n",
      "해운          21.375\n",
      "시스템반도체      36.645\n",
      "dtype: float64\n"
     ]
    }
   ],
   "source": [
    "df1 = df[df['테마'] == \"2차전지(생산)\"]\n",
    "df2 = df[df['테마'] == \"해운\"]\n",
    "df3 = df[df['테마'] == \"시스템반도체\"]\n",
    "\n",
    "mean1 = df1['PER'].mean()\n",
    "mean2 = df2['PER'].mean()\n",
    "mean3 = df3['PER'].mean()\n",
    "\n",
    "data = [mean1, mean2, mean3]\n",
    "index = [\"2차전지(생산)\", \"해운\", \"시스템반도체\"]\n",
    "s = pd.Series(data=data, index=index)\n",
    "print(s)"
   ]
  },
  {
   "cell_type": "markdown",
   "id": "4a73d310",
   "metadata": {},
   "source": [
    "이를 groupby 메소드를 활용해 간략화 할 수 있다.   \n",
    "groupby는 split을 담당하며 DataFrameGroupby라는 객체를 반환한다.   \n",
    "get_gropu을 통해 특정 값을 갖는 데이터프레임을 얻을 수 있다."
   ]
  },
  {
   "cell_type": "code",
   "execution_count": 87,
   "id": "01f4d52c",
   "metadata": {},
   "outputs": [
    {
     "name": "stdout",
     "output_type": "stream",
     "text": [
      "테마\n",
      "2차전지(생산)    46.625\n",
      "시스템반도체      36.645\n",
      "해운          21.375\n",
      "Name: PER, dtype: float64\n",
      "         테마      종목명    PER   PBR\n",
      "0  2차전지(생산)  SK이노베이션  10.19  1.29\n",
      "5  2차전지(생산)     LG화학  83.06  3.75\n"
     ]
    }
   ],
   "source": [
    "print(df.groupby(\"테마\")[\"PER\"].mean())\n",
    "\n",
    "gb = df.groupby(\"테마\")\n",
    "temp = gb.get_group(\"2차전지(생산)\")\n",
    "print(temp)"
   ]
  },
  {
   "cell_type": "markdown",
   "id": "b834a0fb",
   "metadata": {},
   "source": [
    "원본 데이터를 슬라이싱해서 필요한 세 개의 컬럼에 대해 groupby를 적용해보자."
   ]
  },
  {
   "cell_type": "code",
   "execution_count": 88,
   "id": "da600ae0",
   "metadata": {},
   "outputs": [
    {
     "name": "stdout",
     "output_type": "stream",
     "text": [
      "         테마    PER   PBR\n",
      "0  2차전지(생산)  10.19  1.29\n",
      "5  2차전지(생산)  83.06  3.75\n"
     ]
    }
   ],
   "source": [
    "temp = df[[\"테마\", \"PER\", \"PBR\"]].groupby(\"테마\").get_group(\"2차전지(생산)\")\n",
    "print(temp)"
   ]
  },
  {
   "cell_type": "markdown",
   "id": "d50946e2",
   "metadata": {},
   "source": [
    "또다른 방법은 DataFrameGroupBy객체를 슬라이싱 하는 것이다.   \n",
    "이는 데이터프레임과 유사하게 컬럼 인덱싱, 슬라이싱을 지원한다."
   ]
  },
  {
   "cell_type": "code",
   "execution_count": 89,
   "id": "ada5812c",
   "metadata": {},
   "outputs": [
    {
     "name": "stdout",
     "output_type": "stream",
     "text": [
      "     PER   PBR\n",
      "0  10.19  1.29\n",
      "5  83.06  3.75\n"
     ]
    }
   ],
   "source": [
    "temp = df.groupby(\"테마\")[[\"PER\", \"PBR\"]].get_group(\"2차전지(생산)\")\n",
    "print(temp)"
   ]
  },
  {
   "cell_type": "markdown",
   "id": "9f0478b8",
   "metadata": {},
   "source": [
    "그룹화 이후 특정 컬럼마다 다른 함수를 적용할 수 있다.   \n",
    "PER의 max, PBR의 min을 대푯값으로 설정하고자 하는 경우 agg를 사용한다.   \n",
    "컬럼의 이름을 key, 함수의 이름을 value로 전달한다."
   ]
  },
  {
   "cell_type": "code",
   "execution_count": 90,
   "id": "c96edbf5",
   "metadata": {},
   "outputs": [
    {
     "name": "stderr",
     "output_type": "stream",
     "text": [
      "C:\\Users\\송현우\\AppData\\Local\\Temp\\ipykernel_2196\\2939633957.py:1: FutureWarning: The provided callable <built-in function max> is currently using SeriesGroupBy.max. In a future version of pandas, the provided callable will be used directly. To keep current behavior pass the string \"max\" instead.\n",
      "  df.groupby(\"테마\").agg({\"PER\":max, \"PBR\":min})\n",
      "C:\\Users\\송현우\\AppData\\Local\\Temp\\ipykernel_2196\\2939633957.py:1: FutureWarning: The provided callable <built-in function min> is currently using SeriesGroupBy.min. In a future version of pandas, the provided callable will be used directly. To keep current behavior pass the string \"min\" instead.\n",
      "  df.groupby(\"테마\").agg({\"PER\":max, \"PBR\":min})\n"
     ]
    },
    {
     "data": {
      "text/html": [
       "<div>\n",
       "<style scoped>\n",
       "    .dataframe tbody tr th:only-of-type {\n",
       "        vertical-align: middle;\n",
       "    }\n",
       "\n",
       "    .dataframe tbody tr th {\n",
       "        vertical-align: top;\n",
       "    }\n",
       "\n",
       "    .dataframe thead th {\n",
       "        text-align: right;\n",
       "    }\n",
       "</style>\n",
       "<table border=\"1\" class=\"dataframe\">\n",
       "  <thead>\n",
       "    <tr style=\"text-align: right;\">\n",
       "      <th></th>\n",
       "      <th>PER</th>\n",
       "      <th>PBR</th>\n",
       "    </tr>\n",
       "    <tr>\n",
       "      <th>테마</th>\n",
       "      <th></th>\n",
       "      <th></th>\n",
       "    </tr>\n",
       "  </thead>\n",
       "  <tbody>\n",
       "    <tr>\n",
       "      <th>2차전지(생산)</th>\n",
       "      <td>83.06</td>\n",
       "      <td>1.29</td>\n",
       "    </tr>\n",
       "    <tr>\n",
       "      <th>시스템반도체</th>\n",
       "      <td>37.32</td>\n",
       "      <td>1.12</td>\n",
       "    </tr>\n",
       "    <tr>\n",
       "      <th>해운</th>\n",
       "      <td>21.52</td>\n",
       "      <td>0.95</td>\n",
       "    </tr>\n",
       "  </tbody>\n",
       "</table>\n",
       "</div>"
      ],
      "text/plain": [
       "            PER   PBR\n",
       "테마                   \n",
       "2차전지(생산)  83.06  1.29\n",
       "시스템반도체    37.32  1.12\n",
       "해운        21.52  0.95"
      ]
     },
     "execution_count": 90,
     "metadata": {},
     "output_type": "execute_result"
    }
   ],
   "source": [
    "df.groupby(\"테마\").agg({\"PER\":max, \"PBR\":min})"
   ]
  },
  {
   "cell_type": "markdown",
   "id": "0f72c9f6",
   "metadata": {},
   "source": [
    "하나의 컬럼에 여러 연산을 사용할 수도 있다."
   ]
  },
  {
   "cell_type": "code",
   "execution_count": 91,
   "id": "f93cf27d",
   "metadata": {},
   "outputs": [
    {
     "name": "stderr",
     "output_type": "stream",
     "text": [
      "C:\\Users\\송현우\\AppData\\Local\\Temp\\ipykernel_2196\\2713233917.py:1: FutureWarning: The provided callable <built-in function min> is currently using SeriesGroupBy.min. In a future version of pandas, the provided callable will be used directly. To keep current behavior pass the string \"min\" instead.\n",
      "  df.groupby(\"테마\").agg({\"PER\":[min, max], \"PBR\": [np.std,np.var]})\n",
      "C:\\Users\\송현우\\AppData\\Local\\Temp\\ipykernel_2196\\2713233917.py:1: FutureWarning: The provided callable <built-in function max> is currently using SeriesGroupBy.max. In a future version of pandas, the provided callable will be used directly. To keep current behavior pass the string \"max\" instead.\n",
      "  df.groupby(\"테마\").agg({\"PER\":[min, max], \"PBR\": [np.std,np.var]})\n",
      "C:\\Users\\송현우\\AppData\\Local\\Temp\\ipykernel_2196\\2713233917.py:1: FutureWarning: The provided callable <function std at 0x000002487FE97600> is currently using SeriesGroupBy.std. In a future version of pandas, the provided callable will be used directly. To keep current behavior pass the string \"std\" instead.\n",
      "  df.groupby(\"테마\").agg({\"PER\":[min, max], \"PBR\": [np.std,np.var]})\n",
      "C:\\Users\\송현우\\AppData\\Local\\Temp\\ipykernel_2196\\2713233917.py:1: FutureWarning: The provided callable <function var at 0x000002487FE97740> is currently using SeriesGroupBy.var. In a future version of pandas, the provided callable will be used directly. To keep current behavior pass the string \"var\" instead.\n",
      "  df.groupby(\"테마\").agg({\"PER\":[min, max], \"PBR\": [np.std,np.var]})\n"
     ]
    },
    {
     "data": {
      "text/html": [
       "<div>\n",
       "<style scoped>\n",
       "    .dataframe tbody tr th:only-of-type {\n",
       "        vertical-align: middle;\n",
       "    }\n",
       "\n",
       "    .dataframe tbody tr th {\n",
       "        vertical-align: top;\n",
       "    }\n",
       "\n",
       "    .dataframe thead tr th {\n",
       "        text-align: left;\n",
       "    }\n",
       "\n",
       "    .dataframe thead tr:last-of-type th {\n",
       "        text-align: right;\n",
       "    }\n",
       "</style>\n",
       "<table border=\"1\" class=\"dataframe\">\n",
       "  <thead>\n",
       "    <tr>\n",
       "      <th></th>\n",
       "      <th colspan=\"2\" halign=\"left\">PER</th>\n",
       "      <th colspan=\"2\" halign=\"left\">PBR</th>\n",
       "    </tr>\n",
       "    <tr>\n",
       "      <th></th>\n",
       "      <th>min</th>\n",
       "      <th>max</th>\n",
       "      <th>std</th>\n",
       "      <th>var</th>\n",
       "    </tr>\n",
       "    <tr>\n",
       "      <th>테마</th>\n",
       "      <th></th>\n",
       "      <th></th>\n",
       "      <th></th>\n",
       "      <th></th>\n",
       "    </tr>\n",
       "  </thead>\n",
       "  <tbody>\n",
       "    <tr>\n",
       "      <th>2차전지(생산)</th>\n",
       "      <td>10.19</td>\n",
       "      <td>83.06</td>\n",
       "      <td>1.739483</td>\n",
       "      <td>3.02580</td>\n",
       "    </tr>\n",
       "    <tr>\n",
       "      <th>시스템반도체</th>\n",
       "      <td>35.97</td>\n",
       "      <td>37.32</td>\n",
       "      <td>1.718269</td>\n",
       "      <td>2.95245</td>\n",
       "    </tr>\n",
       "    <tr>\n",
       "      <th>해운</th>\n",
       "      <td>21.23</td>\n",
       "      <td>21.52</td>\n",
       "      <td>1.590990</td>\n",
       "      <td>2.53125</td>\n",
       "    </tr>\n",
       "  </tbody>\n",
       "</table>\n",
       "</div>"
      ],
      "text/plain": [
       "            PER              PBR         \n",
       "            min    max       std      var\n",
       "테마                                       \n",
       "2차전지(생산)  10.19  83.06  1.739483  3.02580\n",
       "시스템반도체    35.97  37.32  1.718269  2.95245\n",
       "해운        21.23  21.52  1.590990  2.53125"
      ]
     },
     "execution_count": 91,
     "metadata": {},
     "output_type": "execute_result"
    }
   ],
   "source": [
    "df.groupby(\"테마\").agg({\"PER\":[min, max], \"PBR\": [np.std,np.var]})"
   ]
  },
  {
   "cell_type": "markdown",
   "id": "2e35e4e8",
   "metadata": {},
   "source": [
    "좌/우로 붙이기   \n",
    "concat을 이용해 두개 이상의 데이터프레임을 하나로 만들 수 있다.   \n",
    "concat은 기본적으로 같은 컬럼을 갖는 데이터를 위/아래로 연결한다.   \n",
    "axis=1을 전닥ㄹ하면 데이터를 좌/우로 연결하고 인덱스를 기준으로 연결한다."
   ]
  },
  {
   "cell_type": "code",
   "execution_count": 96,
   "id": "8cbbee42",
   "metadata": {},
   "outputs": [
    {
     "name": "stdout",
     "output_type": "stream",
     "text": [
      "                종가     거래량      시가      고가      저가\n",
      "2019-06-21  113000  555850  112500  115000  111500\n",
      "2019-06-20  111500  282163  110000  112000  109000\n"
     ]
    }
   ],
   "source": [
    "from pandas import DataFrame\n",
    "import pandas as pd\n",
    "\n",
    " # 첫 번째 데이터프레임\n",
    "data = {\n",
    "    '종가': [113000, 111500],\n",
    "    '거래량': [555850, 282163]\n",
    "}\n",
    "index = ['2019-06-21', '2019-06-20']\n",
    "\n",
    "df1 = DataFrame(data=data, index=index)\n",
    "# 두 번째 데이터프레임\n",
    "data = {\n",
    "    '시가':[112500, 110000],\n",
    "    '고가':[115000, 112000],\n",
    "    '저가':[111500, 109000]\n",
    "}\n",
    "index = ['2019-06-21', '2019-06-20']\n",
    "df2 = DataFrame(data=data, index=index)\n",
    "\n",
    "df = pd.concat([df1, df2], axis=1)\n",
    "print(df)"
   ]
  },
  {
   "cell_type": "markdown",
   "id": "71b30d5c",
   "metadata": {},
   "source": [
    "좌우로 이어붙인 컬럼의 순서가 적절하지 않다.   \n",
    "보통 시가,고가,저가,종가,거래량 순서로 컬럼을 사용하기 때문에   \n",
    "변경할 순서대로 레이블을 리스트로 정의하고, 인덱싱 기호에 넣어주면 된다."
   ]
  },
  {
   "cell_type": "code",
   "execution_count": 97,
   "id": "9eb8d963",
   "metadata": {},
   "outputs": [
    {
     "name": "stdout",
     "output_type": "stream",
     "text": [
      "                시가      고가      저가      종가     거래량\n",
      "2019-06-21  112500  115000  111500  113000  555850\n",
      "2019-06-20  110000  112000  109000  111500  282163\n"
     ]
    }
   ],
   "source": [
    "정렬순서 = ['시가', '고가', '저가', '종가', '거래량']\n",
    "df = df[정렬순서]\n",
    "print(df)"
   ]
  },
  {
   "cell_type": "markdown",
   "id": "37917b5c",
   "metadata": {},
   "source": [
    "인덱스가 다른 데이터 프레임에선?   \n",
    "존재하지않는 레이블에서 결측값 NAN이 표기된다.   \n"
   ]
  },
  {
   "cell_type": "code",
   "execution_count": 98,
   "id": "9ac7be58",
   "metadata": {},
   "outputs": [
    {
     "name": "stdout",
     "output_type": "stream",
     "text": [
      "                  종가       거래량        시가        고가        저가\n",
      "2019-06-21  113000.0  555850.0       NaN       NaN       NaN\n",
      "2019-06-20  111500.0  282163.0  112500.0  115000.0  111500.0\n",
      "2019-06-19       NaN       NaN  110000.0  112000.0  109000.0\n"
     ]
    }
   ],
   "source": [
    "from pandas import DataFrame\n",
    "import pandas as pd\n",
    "\n",
    "data = {\n",
    "    '종가': [113000, 111500],\n",
    "    '거래량': [555850, 282163]\n",
    "}\n",
    "index = ['2019-06-21', '2019-06-20']\n",
    "df1 = DataFrame(data=data, index=index)\n",
    "\n",
    "data = {\n",
    "    '시가':[112500, 110000],\n",
    "    '고가':[115000, 112000],\n",
    "    '저가':[111500, 109000]\n",
    "}\n",
    "\n",
    "index = ['2019-06-20', '2019-06-19']\n",
    "df2 = DataFrame(data=data, index=index)\n",
    "\n",
    "df = pd.concat([df1, df2], axis=1)\n",
    "print(df)\n"
   ]
  },
  {
   "cell_type": "markdown",
   "id": "26b810aa",
   "metadata": {},
   "source": [
    "결측치를 채우기 위한 방법은 여러가지가 있다.   \n",
    "concat에서 join을 사용해 outer, inner를 통해 인덱스가 다를 때의 동작을 지정할 수 있다.   \n",
    "outer는 합집합처럼 모든 인덱스에 값을 연결하며 존재하지 않는 Nan으로 표시한다.   \n",
    "inner를 사용하면 교집합처럼 동작하여 공통인 부분만 연결한다. default는 outer이다."
   ]
  },
  {
   "cell_type": "code",
   "execution_count": 99,
   "id": "3484ec50",
   "metadata": {},
   "outputs": [
    {
     "name": "stdout",
     "output_type": "stream",
     "text": [
      "                종가     거래량      시가      고가      저가\n",
      "2019-06-20  111500  282163  112500  115000  111500\n"
     ]
    }
   ],
   "source": [
    "df = pd.concat([df1, df2], axis=1, join='inner')\n",
    "print(df)"
   ]
  },
  {
   "cell_type": "markdown",
   "id": "caf7877f",
   "metadata": {},
   "source": [
    "위/아래로 붙이기   \n",
    "두개의 데이터프레임을 컬럼을 기준으로 정렬 후, 위/아래로 붙일 수 있다.   "
   ]
  },
  {
   "cell_type": "code",
   "execution_count": 104,
   "id": "103f4b37",
   "metadata": {},
   "outputs": [],
   "source": [
    "from pandas import DataFrame\n",
    "import pandas as pd\n",
    "\n",
    "data = {\n",
    "    '종가': [113000, 111500],\n",
    "    '거래량': [555850, 282163]\n",
    "}\n",
    "index = ['2019-06-21', '2019-06-20']\n",
    "df1 = DataFrame(data=data, index=index)\n",
    "\n",
    "data = {\n",
    "    '종가': [113000, 483689],\n",
    "    '거래량': [109000, 754123]\n",
    "}\n",
    "\n",
    "index = ['2019-06-19', '2019-06-18']\n",
    "df2 = DataFrame(data=data, index=index)\n",
    "\n",
    "df = pd.concat([df1, df2])\n"
   ]
  },
  {
   "cell_type": "markdown",
   "id": "3c687b46",
   "metadata": {},
   "source": [
    "Merge   \n",
    "merge는 데이터프레임을 병합한다.   \n",
    "concat은 단순히 붙이는 것이라면, merge는 특정 컬럼의 값을 기준으로 데이터를 병합한다.   \n",
    "이번에 병합할 기준은 \"업종\"이다."
   ]
  },
  {
   "cell_type": "code",
   "execution_count": 106,
   "id": "f2b3c88a",
   "metadata": {},
   "outputs": [
    {
     "name": "stdout",
     "output_type": "stream",
     "text": [
      "     업종    종목코드     종목명     현재가   등락률\n",
      "0  전기전자  005930    삼성전자   74400 -2.43\n",
      "1    화학  051910    LG화학  896000  0.06\n",
      "2  전기전자  000660  SK하이닉스  101500 -2.43\n"
     ]
    }
   ],
   "source": [
    "from pandas import DataFrame\n",
    "import pandas as pd\n",
    "data = [\n",
    "    [\"전기전자\", \"005930\", \"삼성전자\", 74400],\n",
    "    [\"화학\", \"051910\", \"LG화학\", 896000],\n",
    "    [\"전기전자\", \"000660\", \"SK하이닉스\", 101500]\n",
    "]\n",
    "\n",
    "columns = [\"업종\", \"종목코드\", \"종목명\", \"현재가\"]\n",
    "df1 = DataFrame(data=data, columns=columns)\n",
    "\n",
    "data = [\n",
    "    [\"은행\", 2.92],\n",
    "    [\"보험\", 0.37],\n",
    "    [\"화학\", 0.06],\n",
    "    [\"전기전자\", -2.43]\n",
    "]\n",
    "\n",
    "columns = [\"업종\", \"등락률\"]\n",
    "df2 = DataFrame(data=data, columns=columns)\n",
    "\n",
    "df = pd.merge(left=df1, right=df2, on=\"업종\")\n",
    "print(df)"
   ]
  },
  {
   "cell_type": "markdown",
   "id": "e440d4dc",
   "metadata": {},
   "source": [
    "how를 이용해 합치는 방법을 정할 수 있다.   \n",
    "concat과 일관성 있게 inner와 outer를 사용할 수 있다.    \n",
    "left에 의해 서비스업의 카카옦자ㅣ 표시하며 등락률은 존재하지않아 NaN으로 출력한다."
   ]
  },
  {
   "cell_type": "code",
   "execution_count": 108,
   "id": "a301eff0",
   "metadata": {},
   "outputs": [
    {
     "name": "stdout",
     "output_type": "stream",
     "text": [
      "     업종    종목코드   종목명     현재가   등락률\n",
      "0  전기전자  005930  삼성전자   74400 -2.43\n",
      "1    화학  051910  LG화학  896000  0.06\n",
      "2  서비스업  035720   카카오  121500   NaN\n"
     ]
    }
   ],
   "source": [
    "from pandas import DataFrame\n",
    "import pandas as pd\n",
    "data = [\n",
    "    [\"전기전자\", \"005930\", \"삼성전자\", 74400],\n",
    "    [\"화학\", \"051910\", \"LG화학\", 896000],\n",
    "    [\"서비스업\", \"035720\", \"카카오\", 121500]\n",
    "]\n",
    "\n",
    "columns = [\"업종\", \"종목코드\", \"종목명\", \"현재가\"]\n",
    "df1 = DataFrame(data=data, columns=columns)\n",
    "\n",
    "data = [\n",
    "    [\"은행\", 2.92],\n",
    "    [\"보험\", 0.37],\n",
    "    [\"화학\", 0.06],\n",
    "    [\"전기전자\", -2.43]\n",
    "]\n",
    "\n",
    "columns = [\"업종\", \"등락률\"]\n",
    "df2 = DataFrame(data=data, columns=columns)\n",
    "\n",
    "df = pd.merge(left=df1, right=df2, how = 'left', on=\"업종\")\n",
    "print(df)"
   ]
  },
  {
   "cell_type": "markdown",
   "id": "f3cc681a",
   "metadata": {},
   "source": [
    "두 데이터프레임의 컬럼이 다르다면 ?   \n",
    "컬럼의 이름을 변경하고 합칠 수 있지만, 코드가 길어진다.   \n",
    "이 때 어떤 기준을 사용할지 left_on, right_on으로 지정한다."
   ]
  },
  {
   "cell_type": "code",
   "execution_count": 110,
   "id": "61c2fd92",
   "metadata": {},
   "outputs": [
    {
     "name": "stdout",
     "output_type": "stream",
     "text": [
      "     업종    종목코드   종목명     현재가    항목   등락률\n",
      "0  전기전자  005930  삼성전자   74400  전기전자 -2.43\n",
      "1    화학  051910  LG화학  896000    화학  0.06\n"
     ]
    }
   ],
   "source": [
    "from pandas import DataFrame\n",
    "import pandas as pd\n",
    "data = [\n",
    "    [\"전기전자\", \"005930\", \"삼성전자\", 74400],\n",
    "    [\"화학\", \"051910\", \"LG화학\", 896000],\n",
    "    [\"서비스업\", \"035720\", \"카카오\", 121500]\n",
    "]\n",
    "\n",
    "columns = [\"업종\", \"종목코드\", \"종목명\", \"현재가\"]\n",
    "df1 = DataFrame(data=data, columns=columns)\n",
    "\n",
    "data = [\n",
    "    [\"은행\", 2.92],\n",
    "    [\"보험\", 0.37],\n",
    "    [\"화학\", 0.06],\n",
    "    [\"전기전자\", -2.43]\n",
    "]\n",
    "\n",
    "columns = [\"항목\", \"등락률\"]\n",
    "df2 = DataFrame(data=data, columns=columns)\n",
    "\n",
    "df = pd.merge(left=df1, right=df2, left_on=\"업종\", right_on=\"항목\")\n",
    "print(df)"
   ]
  },
  {
   "cell_type": "markdown",
   "id": "f8a2e171",
   "metadata": {},
   "source": [
    "Join   \n",
    "merge와 유사하지만 인덱스의 기준으로 병합하는 경우 join을 사용한다."
   ]
  },
  {
   "cell_type": "code",
   "execution_count": 114,
   "id": "fe8551c5",
   "metadata": {},
   "outputs": [
    {
     "data": {
      "text/html": [
       "<div>\n",
       "<style scoped>\n",
       "    .dataframe tbody tr th:only-of-type {\n",
       "        vertical-align: middle;\n",
       "    }\n",
       "\n",
       "    .dataframe tbody tr th {\n",
       "        vertical-align: top;\n",
       "    }\n",
       "\n",
       "    .dataframe thead th {\n",
       "        text-align: right;\n",
       "    }\n",
       "</style>\n",
       "<table border=\"1\" class=\"dataframe\">\n",
       "  <thead>\n",
       "    <tr style=\"text-align: right;\">\n",
       "      <th></th>\n",
       "      <th>업종</th>\n",
       "      <th>종목코드</th>\n",
       "      <th>종목명</th>\n",
       "      <th>현재가</th>\n",
       "      <th>등락률</th>\n",
       "    </tr>\n",
       "  </thead>\n",
       "  <tbody>\n",
       "    <tr>\n",
       "      <th>0</th>\n",
       "      <td>전기전자</td>\n",
       "      <td>005930</td>\n",
       "      <td>삼성전자</td>\n",
       "      <td>74400</td>\n",
       "      <td>NaN</td>\n",
       "    </tr>\n",
       "    <tr>\n",
       "      <th>1</th>\n",
       "      <td>화학</td>\n",
       "      <td>051910</td>\n",
       "      <td>LG화학</td>\n",
       "      <td>896000</td>\n",
       "      <td>NaN</td>\n",
       "    </tr>\n",
       "    <tr>\n",
       "      <th>2</th>\n",
       "      <td>서비스업</td>\n",
       "      <td>035720</td>\n",
       "      <td>카카오</td>\n",
       "      <td>121500</td>\n",
       "      <td>NaN</td>\n",
       "    </tr>\n",
       "  </tbody>\n",
       "</table>\n",
       "</div>"
      ],
      "text/plain": [
       "     업종    종목코드   종목명     현재가  등락률\n",
       "0  전기전자  005930  삼성전자   74400  NaN\n",
       "1    화학  051910  LG화학  896000  NaN\n",
       "2  서비스업  035720   카카오  121500  NaN"
      ]
     },
     "execution_count": 114,
     "metadata": {},
     "output_type": "execute_result"
    }
   ],
   "source": [
    "data = [\n",
    "    [\"전기전자\", \"005930\", \"삼성전자\", 74400],\n",
    "    [\"화학\", \"051910\", \"LG화학\", 896000],\n",
    "    [\"서비스업\", \"035720\", \"카카오\", 121500]\n",
    "]\n",
    "\n",
    "columns = [\"업종\", \"종목코드\", \"종목명\", \"현재가\"]\n",
    "df1 = DataFrame(data=data, columns=columns)\n",
    "\n",
    "data = [\n",
    "    [\"은행\", 2.92],\n",
    "    [\"보험\", 0.37],\n",
    "    [\"화학\", 0.06],\n",
    "    [\"전기전자\", -2.43]\n",
    "]\n",
    "\n",
    "columns = [\"항목\", \"등락률\"]\n",
    "df2 = DataFrame(data=data, columns=columns)\n",
    "df2 = df2.set_index(\"항목\")\n",
    "\n",
    "df1.join(other=df2)"
   ]
  },
  {
   "cell_type": "markdown",
   "id": "62e42e67",
   "metadata": {},
   "source": [
    "멀티 인덱스   \n",
    "엑셀에선 cell을 병합하는 형태로 여러 컬럼으로 구분된 데이터를 표현할 수 있다.   \n",
    "이를 데이터프레임에선 멀팅니덱스라고 표현한다.   \n",
    "level0, level1 인덱스 등으로 나뉜다."
   ]
  },
  {
   "cell_type": "code",
   "execution_count": null,
   "id": "353998f5",
   "metadata": {},
   "outputs": [],
   "source": [
    "from pandas import DataFrame\n",
    "import pandas as pd\n",
    "\n",
    "data = [\n",
    "    ['영업이익', '컨센서스', 1000, 1200],\n",
    "    ['영업이익', '잠정치', 900, 1400],\n",
    "    ['당기순이익', '컨센서스', 800, 900],\n",
    "    ['당기순이익', '잠정치', 700, 800],\n",
    "]\n",
    "\n",
    "df = DataFrame(data=data)\n",
    "df = df.set_index([0, 1])\n",
    "print(df)\n"
   ]
  }
 ],
 "metadata": {
  "kernelspec": {
   "display_name": "Python 3",
   "language": "python",
   "name": "python3"
  },
  "language_info": {
   "codemirror_mode": {
    "name": "ipython",
    "version": 3
   },
   "file_extension": ".py",
   "mimetype": "text/x-python",
   "name": "python",
   "nbconvert_exporter": "python",
   "pygments_lexer": "ipython3",
   "version": "3.12.4"
  }
 },
 "nbformat": 4,
 "nbformat_minor": 5
}
