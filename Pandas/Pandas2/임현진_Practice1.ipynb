{
  "nbformat": 4,
  "nbformat_minor": 0,
  "metadata": {
    "colab": {
      "provenance": []
    },
    "kernelspec": {
      "name": "python3",
      "display_name": "Python 3"
    },
    "language_info": {
      "name": "python"
    }
  },
  "cells": [
    {
      "cell_type": "code",
      "execution_count": 7,
      "metadata": {
        "id": "kra4mhSqmw1n"
      },
      "outputs": [],
      "source": [
        "from pandas import DataFrame, Series\n",
        "\n",
        "data= [\n",
        "    [\"3R\",1510,7.36],\n",
        "    [\"3S0FT\",1790,1.65],\n",
        "    [\"ACTS\",1185,1.28]\n",
        "]\n",
        "index= [\"037730\",\"036360\",\"005760\"]\n",
        "columns=[\"종목명\",\"현재가\",\"등락률\"]\n",
        "df= DataFrame(data,index=index,columns=columns)"
      ]
    },
    {
      "cell_type": "code",
      "source": [
        "s= Series(data=[1600,1600,1600], index=df.index)\n",
        "df['목표가'] = s\n",
        "print(df)"
      ],
      "metadata": {
        "colab": {
          "base_uri": "https://localhost:8080/"
        },
        "id": "2ZP1uKlBoSvF",
        "outputId": "268b9b5f-04ad-4c60-95d6-abce4da98121"
      },
      "execution_count": 11,
      "outputs": [
        {
          "output_type": "stream",
          "name": "stdout",
          "text": [
            "          종목명   현재가   등락률   목표가\n",
            "037730     3R  1510  7.36  1600\n",
            "036360  3S0FT  1790  1.65  1600\n",
            "005760   ACTS  1185  1.28  1600\n"
          ]
        }
      ]
    },
    {
      "cell_type": "code",
      "source": [
        "df['목표가']=1600\n",
        "print(df)"
      ],
      "metadata": {
        "colab": {
          "base_uri": "https://localhost:8080/"
        },
        "id": "DJPewPv2omxk",
        "outputId": "848d7b65-98c2-45dc-e5fa-3c61f88da40d"
      },
      "execution_count": 13,
      "outputs": [
        {
          "output_type": "stream",
          "name": "stdout",
          "text": [
            "          종목명   현재가   등락률   목표가\n",
            "037730     3R  1510  7.36  1600\n",
            "036360  3S0FT  1790  1.65  1600\n",
            "005760   ACTS  1185  1.28  1600\n"
          ]
        }
      ]
    },
    {
      "cell_type": "code",
      "source": [
        "df['괴리율']= (df['목표가']-df['현재가'])/ df['현재가']\n",
        "print(df)"
      ],
      "metadata": {
        "colab": {
          "base_uri": "https://localhost:8080/"
        },
        "id": "KF9Wjof1o4GH",
        "outputId": "337c3975-23c3-4182-ff09-eeafe63280a0"
      },
      "execution_count": 15,
      "outputs": [
        {
          "output_type": "stream",
          "name": "stdout",
          "text": [
            "          종목명   현재가   등락률   목표가       괴리율\n",
            "037730     3R  1510  7.36  1600  0.059603\n",
            "036360  3S0FT  1790  1.65  1600 -0.106145\n",
            "005760   ACTS  1185  1.28  1600  0.350211\n"
          ]
        }
      ]
    },
    {
      "cell_type": "code",
      "source": [
        "from pandas import DataFrame, Series\n",
        "\n",
        "data= [\n",
        "    [\"3R\",1510,7.36],\n",
        "    [\"3S0FT\",1790,1.65],\n",
        "    [\"ACTS\",1185,1.28]\n",
        "]\n",
        "index= [\"037730\",\"036360\",\"005760\"]\n",
        "columns=[\"종목명\",\"현재가\",\"등락률\"]\n",
        "df= DataFrame(data,index=index,columns=columns)"
      ],
      "metadata": {
        "id": "uPZYsvrcplxM"
      },
      "execution_count": 17,
      "outputs": []
    },
    {
      "cell_type": "code",
      "source": [
        "s= Series(data= [\"LG전자\", 60000, 3.84], index= df.columns)\n",
        "df.loc[\"066570\"] =s\n",
        "print(df)"
      ],
      "metadata": {
        "colab": {
          "base_uri": "https://localhost:8080/"
        },
        "id": "BWJD6l44pDjg",
        "outputId": "08e9d221-afc8-4f25-eeec-90591486bc8f"
      },
      "execution_count": 20,
      "outputs": [
        {
          "output_type": "stream",
          "name": "stdout",
          "text": [
            "          종목명    현재가   등락률\n",
            "037730     3R   1510  7.36\n",
            "036360  3S0FT   1790  1.65\n",
            "005760   ACTS   1185  1.28\n",
            "066570   LG전자  60000  3.84\n"
          ]
        }
      ]
    },
    {
      "cell_type": "code",
      "source": [
        "df.loc[\"066570\"] = [\"LG전자\", 60000, 3.84]\n",
        "print(df)"
      ],
      "metadata": {
        "colab": {
          "base_uri": "https://localhost:8080/"
        },
        "id": "nwUeInE4ptKR",
        "outputId": "a2aab4dc-9b57-4af6-eef1-a7f15bf02d5d"
      },
      "execution_count": 22,
      "outputs": [
        {
          "output_type": "stream",
          "name": "stdout",
          "text": [
            "          종목명    현재가   등락률\n",
            "037730     3R   1510  7.36\n",
            "036360  3S0FT   1790  1.65\n",
            "005760   ACTS   1185  1.28\n",
            "066570   LG전자  60000  3.84\n"
          ]
        }
      ]
    },
    {
      "cell_type": "code",
      "source": [
        "s= Series(data= [\"LG전자\", 60000, 3.84], index= df.columns, name= \"066570\")\n",
        "# new_df = df.append(s) # append is deprecated, use loc or concat\n",
        "df.loc[s.name] = s\n",
        "print(df)"
      ],
      "metadata": {
        "colab": {
          "base_uri": "https://localhost:8080/"
        },
        "id": "32tptx9tp3sV",
        "outputId": "b07f7712-c61b-45df-b8ca-4d7bfb3ab9d6"
      },
      "execution_count": 26,
      "outputs": [
        {
          "output_type": "stream",
          "name": "stdout",
          "text": [
            "          종목명    현재가   등락률\n",
            "037730     3R   1510  7.36\n",
            "036360  3S0FT   1790  1.65\n",
            "005760   ACTS   1185  1.28\n",
            "066570   LG전자  60000  3.84\n"
          ]
        }
      ]
    },
    {
      "cell_type": "code",
      "source": [
        "from pandas import DataFrame, Series\n",
        "\n",
        "data= [\n",
        "    [\"3R\",1510,7.36],\n",
        "    [\"3S0FT\",1790,1.65],\n",
        "    [\"ACTS\",1185,1.28]\n",
        "]\n",
        "index= [\"037730\",\"036360\",\"005760\"]\n",
        "columns=[\"종목명\",\"현재가\",\"등락률\"]\n",
        "df= DataFrame(data,index=index,columns=columns)"
      ],
      "metadata": {
        "id": "M_SzYWrMqjjx"
      },
      "execution_count": 27,
      "outputs": []
    },
    {
      "cell_type": "code",
      "source": [
        "df_new = df.drop(\"현재가\", axis=1)\n",
        "print(df_new)"
      ],
      "metadata": {
        "colab": {
          "base_uri": "https://localhost:8080/"
        },
        "id": "8ZDbG7SsqpdD",
        "outputId": "0b950b4a-a95c-4a33-d452-17773d6291e8"
      },
      "execution_count": 29,
      "outputs": [
        {
          "output_type": "stream",
          "name": "stdout",
          "text": [
            "          종목명   등락률\n",
            "037730     3R  7.36\n",
            "036360  3S0FT  1.65\n",
            "005760   ACTS  1.28\n"
          ]
        }
      ]
    },
    {
      "cell_type": "code",
      "source": [
        "df_new = df.drop(\"037730\", axis=0)\n",
        "print(df_new)"
      ],
      "metadata": {
        "colab": {
          "base_uri": "https://localhost:8080/"
        },
        "id": "BwXEa2weqwtM",
        "outputId": "6a1bd877-3641-4b53-d3cd-ec08ff4ab3a3"
      },
      "execution_count": 30,
      "outputs": [
        {
          "output_type": "stream",
          "name": "stdout",
          "text": [
            "          종목명   현재가   등락률\n",
            "036360  3S0FT  1790  1.65\n",
            "005760   ACTS  1185  1.28\n"
          ]
        }
      ]
    },
    {
      "cell_type": "code",
      "source": [
        "df.drop(\"현재가\", axis=1, inplace=True)\n",
        "print(df)"
      ],
      "metadata": {
        "colab": {
          "base_uri": "https://localhost:8080/"
        },
        "id": "rlYe8SlAq2yz",
        "outputId": "d97f7a53-a7da-4ba3-960e-b20a8abaee7f"
      },
      "execution_count": 31,
      "outputs": [
        {
          "output_type": "stream",
          "name": "stdout",
          "text": [
            "          종목명   등락률\n",
            "037730     3R  7.36\n",
            "036360  3S0FT  1.65\n",
            "005760   ACTS  1.28\n"
          ]
        }
      ]
    },
    {
      "cell_type": "code",
      "source": [
        "df.drop([\"037730\",\"005760\"], axis=0, inplace=True)\n",
        "print(df)"
      ],
      "metadata": {
        "colab": {
          "base_uri": "https://localhost:8080/"
        },
        "id": "m5uJYEZfrDrb",
        "outputId": "bb2c6874-3de4-4833-c65e-58228514af30"
      },
      "execution_count": 32,
      "outputs": [
        {
          "output_type": "stream",
          "name": "stdout",
          "text": [
            "          종목명   등락률\n",
            "036360  3S0FT  1.65\n"
          ]
        }
      ]
    },
    {
      "cell_type": "code",
      "source": [
        "from pandas import DataFrame, Series\n",
        "\n",
        "data= [\n",
        "    [\"3R\",1510,7.36],\n",
        "    [\"3S0FT\",1790,1.65],\n",
        "    [\"ACTS\",1185,1.28]\n",
        "]\n",
        "index= [\"037730\",\"036360\",\"005760\"]\n",
        "columns=[\"종목명\",\"현재가\",\"등락률\"]\n",
        "df= DataFrame(data,index=index,columns=columns)"
      ],
      "metadata": {
        "id": "aXiwNSCyrMgh"
      },
      "execution_count": 33,
      "outputs": []
    },
    {
      "cell_type": "code",
      "source": [
        "print(df.columns)"
      ],
      "metadata": {
        "colab": {
          "base_uri": "https://localhost:8080/"
        },
        "id": "BgZhnWb5rSgS",
        "outputId": "4c12d76a-ccf9-48de-937a-46506a110858"
      },
      "execution_count": 34,
      "outputs": [
        {
          "output_type": "stream",
          "name": "stdout",
          "text": [
            "Index(['종목명', '현재가', '등락률'], dtype='object')\n"
          ]
        }
      ]
    },
    {
      "cell_type": "code",
      "source": [
        "print(df.index)"
      ],
      "metadata": {
        "colab": {
          "base_uri": "https://localhost:8080/"
        },
        "id": "k-iyltesrVue",
        "outputId": "10a569d2-70c5-457e-d74b-8f9bc6176b46"
      },
      "execution_count": 35,
      "outputs": [
        {
          "output_type": "stream",
          "name": "stdout",
          "text": [
            "Index(['037730', '036360', '005760'], dtype='object')\n"
          ]
        }
      ]
    },
    {
      "cell_type": "code",
      "source": [
        "df.columns = ['name','close','fluctuation']\n",
        "df.index.name = 'code'\n",
        "print(df)"
      ],
      "metadata": {
        "colab": {
          "base_uri": "https://localhost:8080/"
        },
        "id": "wzmQDYEmrYUw",
        "outputId": "f7859911-3c1b-4f8f-bafb-04d015c1a644"
      },
      "execution_count": 38,
      "outputs": [
        {
          "output_type": "stream",
          "name": "stdout",
          "text": [
            "         name  close  fluctuation\n",
            "code                             \n",
            "037730     3R   1510         7.36\n",
            "036360  3S0FT   1790         1.65\n",
            "005760   ACTS   1185         1.28\n"
          ]
        }
      ]
    },
    {
      "cell_type": "code",
      "source": [
        "from pandas import DataFrame, Series\n",
        "\n",
        "data= [\n",
        "    [\"3R\",1510,7.36],\n",
        "    [\"3S0FT\",1790,1.65],\n",
        "    [\"ACTS\",1185,1.28]\n",
        "]\n",
        "index= [\"037730\",\"036360\",\"005760\"]\n",
        "columns=[\"종목명\",\"현재가\",\"등락률\"]\n",
        "df= DataFrame(data,index=index,columns=columns)"
      ],
      "metadata": {
        "id": "GNhxCecmrmvE"
      },
      "execution_count": 39,
      "outputs": []
    },
    {
      "cell_type": "code",
      "source": [
        "df.rename(columns={\"종목명\":\"code\"}, inplace=True)\n",
        "print(df)"
      ],
      "metadata": {
        "colab": {
          "base_uri": "https://localhost:8080/"
        },
        "id": "qn4JuuTqsCsw",
        "outputId": "5d3ea220-7b38-480f-8e49-9e54eace9391"
      },
      "execution_count": 42,
      "outputs": [
        {
          "output_type": "stream",
          "name": "stdout",
          "text": [
            "         code   현재가   등락률\n",
            "037730     3R  1510  7.36\n",
            "036360  3S0FT  1790  1.65\n",
            "005760   ACTS  1185  1.28\n"
          ]
        }
      ]
    },
    {
      "cell_type": "code",
      "source": [
        "data= [\n",
        "    [\"1,000\",\"1,100\",\"1,510\"],\n",
        "    [\"1,410\",\"1,420\",\"1,790\"],\n",
        "    [\"850\",\"900\",\"1,185\"],\n",
        "]\n",
        "columns= [\"03/02\",\"03/03\",\"03/04\"]\n",
        "df=DataFrame(data=data, columns=columns)\n",
        "print(df)"
      ],
      "metadata": {
        "colab": {
          "base_uri": "https://localhost:8080/"
        },
        "id": "h0srUpEhsRUQ",
        "outputId": "2c3a9912-b82f-4406-81fc-5a764fe7d1ef"
      },
      "execution_count": 44,
      "outputs": [
        {
          "output_type": "stream",
          "name": "stdout",
          "text": [
            "   03/02  03/03  03/04\n",
            "0  1,000  1,100  1,510\n",
            "1  1,410  1,420  1,790\n",
            "2    850    900  1,185\n"
          ]
        }
      ]
    },
    {
      "cell_type": "code",
      "source": [
        "def remove_comma(x):\n",
        "    return int(x.replace(\",\",\"\"))\n",
        "\n",
        "df['03/02'] = df['03/02'].map(remove_comma)\n",
        "df['03/03'] = df['03/03'].map(remove_comma)\n",
        "df['03/04'] = df['03/04'].map(remove_comma)\n",
        "print(df)"
      ],
      "metadata": {
        "colab": {
          "base_uri": "https://localhost:8080/"
        },
        "id": "Gi5zPpCGssMA",
        "outputId": "3cd28f17-73b6-4574-8f44-3442f881871a"
      },
      "execution_count": 47,
      "outputs": [
        {
          "output_type": "stream",
          "name": "stdout",
          "text": [
            "   03/02  03/03  03/04\n",
            "0   1000   1100   1510\n",
            "1   1410   1420   1790\n",
            "2    850    900   1185\n"
          ]
        }
      ]
    },
    {
      "cell_type": "code",
      "source": [
        "data= [\n",
        "    [\"1,000\",\"1,100\",\"1,510\"],\n",
        "    [\"1,410\",\"1,420\",\"1,790\"],\n",
        "    [\"850\",\"900\",\"1,185\"],\n",
        "]\n",
        "columns= [\"03/02\",\"03/03\",\"03/04\"]\n",
        "df=DataFrame(data=data, columns=columns)\n",
        "print(df)\n",
        "def remove_comma(x):\n",
        "    return int(x.replace(\",\",\"\"))\n",
        "df = df.applymap(remove_comma)\n",
        "print(df)\n",
        "print(df.dtypes)"
      ],
      "metadata": {
        "colab": {
          "base_uri": "https://localhost:8080/"
        },
        "id": "QXGLYpfgtFTT",
        "outputId": "130fc62f-9ac2-4e78-a9d0-9a322d51ba72"
      },
      "execution_count": 50,
      "outputs": [
        {
          "output_type": "stream",
          "name": "stdout",
          "text": [
            "   03/02  03/03  03/04\n",
            "0  1,000  1,100  1,510\n",
            "1  1,410  1,420  1,790\n",
            "2    850    900  1,185\n",
            "   03/02  03/03  03/04\n",
            "0   1000   1100   1510\n",
            "1   1410   1420   1790\n",
            "2    850    900   1185\n",
            "03/02    int64\n",
            "03/03    int64\n",
            "03/04    int64\n",
            "dtype: object\n"
          ]
        },
        {
          "output_type": "stream",
          "name": "stderr",
          "text": [
            "/tmp/ipython-input-736548190.py:11: FutureWarning: DataFrame.applymap has been deprecated. Use DataFrame.map instead.\n",
            "  df = df.applymap(remove_comma)\n"
          ]
        }
      ]
    },
    {
      "cell_type": "code",
      "source": [
        "import numpy as np\n",
        "df= df.astype({'03/02':np.int64,'03/03':np.int64,'03/04':np.int64})\n",
        "print(df)\n",
        "print(df.dtypes)"
      ],
      "metadata": {
        "colab": {
          "base_uri": "https://localhost:8080/"
        },
        "id": "63Yjph_wtuWw",
        "outputId": "f7bdbf9b-967c-441b-c862-6de9e88e3099"
      },
      "execution_count": 56,
      "outputs": [
        {
          "output_type": "stream",
          "name": "stdout",
          "text": [
            "   03/02  03/03  03/04\n",
            "0   1000   1100   1510\n",
            "1   1410   1420   1790\n",
            "2    850    900   1185\n",
            "03/02    int64\n",
            "03/03    int64\n",
            "03/04    int64\n",
            "dtype: object\n"
          ]
        }
      ]
    },
    {
      "cell_type": "code",
      "source": [
        "data = [\n",
        "    {\"cd\": \"A060310\", \"nm\":\"3S\",\"close\":\"2,920\"},\n",
        "    {\"cd\": \"A095570\", \"nm\":\"AJ네트웍스\",\"close\":\"6,250\"},\n",
        "    {\"cd\": \"A006840\", \"nm\":\"AK홀딩스\",\"close\":\"29,700\"},\n",
        "    {\"cd\": \"A054620\", \"nm\":\"APS홀딩스\",\"close\":\"19,400\"}\n",
        "]\n",
        "df= DataFrame(data)\n",
        "df"
      ],
      "metadata": {
        "colab": {
          "base_uri": "https://localhost:8080/",
          "height": 174
        },
        "id": "UCtd2KOdvIkY",
        "outputId": "5c6fd92f-a646-4c5d-e347-3d578e306a28"
      },
      "execution_count": 59,
      "outputs": [
        {
          "output_type": "execute_result",
          "data": {
            "text/plain": [
              "        cd      nm   close\n",
              "0  A060310      3S   2,920\n",
              "1  A095570  AJ네트웍스   6,250\n",
              "2  A006840   AK홀딩스  29,700\n",
              "3  A054620  APS홀딩스  19,400"
            ],
            "text/html": [
              "\n",
              "  <div id=\"df-30ce92d3-a32f-4960-86e1-366aaab74431\" class=\"colab-df-container\">\n",
              "    <div>\n",
              "<style scoped>\n",
              "    .dataframe tbody tr th:only-of-type {\n",
              "        vertical-align: middle;\n",
              "    }\n",
              "\n",
              "    .dataframe tbody tr th {\n",
              "        vertical-align: top;\n",
              "    }\n",
              "\n",
              "    .dataframe thead th {\n",
              "        text-align: right;\n",
              "    }\n",
              "</style>\n",
              "<table border=\"1\" class=\"dataframe\">\n",
              "  <thead>\n",
              "    <tr style=\"text-align: right;\">\n",
              "      <th></th>\n",
              "      <th>cd</th>\n",
              "      <th>nm</th>\n",
              "      <th>close</th>\n",
              "    </tr>\n",
              "  </thead>\n",
              "  <tbody>\n",
              "    <tr>\n",
              "      <th>0</th>\n",
              "      <td>A060310</td>\n",
              "      <td>3S</td>\n",
              "      <td>2,920</td>\n",
              "    </tr>\n",
              "    <tr>\n",
              "      <th>1</th>\n",
              "      <td>A095570</td>\n",
              "      <td>AJ네트웍스</td>\n",
              "      <td>6,250</td>\n",
              "    </tr>\n",
              "    <tr>\n",
              "      <th>2</th>\n",
              "      <td>A006840</td>\n",
              "      <td>AK홀딩스</td>\n",
              "      <td>29,700</td>\n",
              "    </tr>\n",
              "    <tr>\n",
              "      <th>3</th>\n",
              "      <td>A054620</td>\n",
              "      <td>APS홀딩스</td>\n",
              "      <td>19,400</td>\n",
              "    </tr>\n",
              "  </tbody>\n",
              "</table>\n",
              "</div>\n",
              "    <div class=\"colab-df-buttons\">\n",
              "\n",
              "  <div class=\"colab-df-container\">\n",
              "    <button class=\"colab-df-convert\" onclick=\"convertToInteractive('df-30ce92d3-a32f-4960-86e1-366aaab74431')\"\n",
              "            title=\"Convert this dataframe to an interactive table.\"\n",
              "            style=\"display:none;\">\n",
              "\n",
              "  <svg xmlns=\"http://www.w3.org/2000/svg\" height=\"24px\" viewBox=\"0 -960 960 960\">\n",
              "    <path d=\"M120-120v-720h720v720H120Zm60-500h600v-160H180v160Zm220 220h160v-160H400v160Zm0 220h160v-160H400v160ZM180-400h160v-160H180v160Zm440 0h160v-160H620v160ZM180-180h160v-160H180v160Zm440 0h160v-160H620v160Z\"/>\n",
              "  </svg>\n",
              "    </button>\n",
              "\n",
              "  <style>\n",
              "    .colab-df-container {\n",
              "      display:flex;\n",
              "      gap: 12px;\n",
              "    }\n",
              "\n",
              "    .colab-df-convert {\n",
              "      background-color: #E8F0FE;\n",
              "      border: none;\n",
              "      border-radius: 50%;\n",
              "      cursor: pointer;\n",
              "      display: none;\n",
              "      fill: #1967D2;\n",
              "      height: 32px;\n",
              "      padding: 0 0 0 0;\n",
              "      width: 32px;\n",
              "    }\n",
              "\n",
              "    .colab-df-convert:hover {\n",
              "      background-color: #E2EBFA;\n",
              "      box-shadow: 0px 1px 2px rgba(60, 64, 67, 0.3), 0px 1px 3px 1px rgba(60, 64, 67, 0.15);\n",
              "      fill: #174EA6;\n",
              "    }\n",
              "\n",
              "    .colab-df-buttons div {\n",
              "      margin-bottom: 4px;\n",
              "    }\n",
              "\n",
              "    [theme=dark] .colab-df-convert {\n",
              "      background-color: #3B4455;\n",
              "      fill: #D2E3FC;\n",
              "    }\n",
              "\n",
              "    [theme=dark] .colab-df-convert:hover {\n",
              "      background-color: #434B5C;\n",
              "      box-shadow: 0px 1px 3px 1px rgba(0, 0, 0, 0.15);\n",
              "      filter: drop-shadow(0px 1px 2px rgba(0, 0, 0, 0.3));\n",
              "      fill: #FFFFFF;\n",
              "    }\n",
              "  </style>\n",
              "\n",
              "    <script>\n",
              "      const buttonEl =\n",
              "        document.querySelector('#df-30ce92d3-a32f-4960-86e1-366aaab74431 button.colab-df-convert');\n",
              "      buttonEl.style.display =\n",
              "        google.colab.kernel.accessAllowed ? 'block' : 'none';\n",
              "\n",
              "      async function convertToInteractive(key) {\n",
              "        const element = document.querySelector('#df-30ce92d3-a32f-4960-86e1-366aaab74431');\n",
              "        const dataTable =\n",
              "          await google.colab.kernel.invokeFunction('convertToInteractive',\n",
              "                                                    [key], {});\n",
              "        if (!dataTable) return;\n",
              "\n",
              "        const docLinkHtml = 'Like what you see? Visit the ' +\n",
              "          '<a target=\"_blank\" href=https://colab.research.google.com/notebooks/data_table.ipynb>data table notebook</a>'\n",
              "          + ' to learn more about interactive tables.';\n",
              "        element.innerHTML = '';\n",
              "        dataTable['output_type'] = 'display_data';\n",
              "        await google.colab.output.renderOutput(dataTable, element);\n",
              "        const docLink = document.createElement('div');\n",
              "        docLink.innerHTML = docLinkHtml;\n",
              "        element.appendChild(docLink);\n",
              "      }\n",
              "    </script>\n",
              "  </div>\n",
              "\n",
              "\n",
              "    <div id=\"df-2d8cbcb2-341d-4be0-9555-2c9cac3a9388\">\n",
              "      <button class=\"colab-df-quickchart\" onclick=\"quickchart('df-2d8cbcb2-341d-4be0-9555-2c9cac3a9388')\"\n",
              "                title=\"Suggest charts\"\n",
              "                style=\"display:none;\">\n",
              "\n",
              "<svg xmlns=\"http://www.w3.org/2000/svg\" height=\"24px\"viewBox=\"0 0 24 24\"\n",
              "     width=\"24px\">\n",
              "    <g>\n",
              "        <path d=\"M19 3H5c-1.1 0-2 .9-2 2v14c0 1.1.9 2 2 2h14c1.1 0 2-.9 2-2V5c0-1.1-.9-2-2-2zM9 17H7v-7h2v7zm4 0h-2V7h2v10zm4 0h-2v-4h2v4z\"/>\n",
              "    </g>\n",
              "</svg>\n",
              "      </button>\n",
              "\n",
              "<style>\n",
              "  .colab-df-quickchart {\n",
              "      --bg-color: #E8F0FE;\n",
              "      --fill-color: #1967D2;\n",
              "      --hover-bg-color: #E2EBFA;\n",
              "      --hover-fill-color: #174EA6;\n",
              "      --disabled-fill-color: #AAA;\n",
              "      --disabled-bg-color: #DDD;\n",
              "  }\n",
              "\n",
              "  [theme=dark] .colab-df-quickchart {\n",
              "      --bg-color: #3B4455;\n",
              "      --fill-color: #D2E3FC;\n",
              "      --hover-bg-color: #434B5C;\n",
              "      --hover-fill-color: #FFFFFF;\n",
              "      --disabled-bg-color: #3B4455;\n",
              "      --disabled-fill-color: #666;\n",
              "  }\n",
              "\n",
              "  .colab-df-quickchart {\n",
              "    background-color: var(--bg-color);\n",
              "    border: none;\n",
              "    border-radius: 50%;\n",
              "    cursor: pointer;\n",
              "    display: none;\n",
              "    fill: var(--fill-color);\n",
              "    height: 32px;\n",
              "    padding: 0;\n",
              "    width: 32px;\n",
              "  }\n",
              "\n",
              "  .colab-df-quickchart:hover {\n",
              "    background-color: var(--hover-bg-color);\n",
              "    box-shadow: 0 1px 2px rgba(60, 64, 67, 0.3), 0 1px 3px 1px rgba(60, 64, 67, 0.15);\n",
              "    fill: var(--button-hover-fill-color);\n",
              "  }\n",
              "\n",
              "  .colab-df-quickchart-complete:disabled,\n",
              "  .colab-df-quickchart-complete:disabled:hover {\n",
              "    background-color: var(--disabled-bg-color);\n",
              "    fill: var(--disabled-fill-color);\n",
              "    box-shadow: none;\n",
              "  }\n",
              "\n",
              "  .colab-df-spinner {\n",
              "    border: 2px solid var(--fill-color);\n",
              "    border-color: transparent;\n",
              "    border-bottom-color: var(--fill-color);\n",
              "    animation:\n",
              "      spin 1s steps(1) infinite;\n",
              "  }\n",
              "\n",
              "  @keyframes spin {\n",
              "    0% {\n",
              "      border-color: transparent;\n",
              "      border-bottom-color: var(--fill-color);\n",
              "      border-left-color: var(--fill-color);\n",
              "    }\n",
              "    20% {\n",
              "      border-color: transparent;\n",
              "      border-left-color: var(--fill-color);\n",
              "      border-top-color: var(--fill-color);\n",
              "    }\n",
              "    30% {\n",
              "      border-color: transparent;\n",
              "      border-left-color: var(--fill-color);\n",
              "      border-top-color: var(--fill-color);\n",
              "      border-right-color: var(--fill-color);\n",
              "    }\n",
              "    40% {\n",
              "      border-color: transparent;\n",
              "      border-right-color: var(--fill-color);\n",
              "      border-top-color: var(--fill-color);\n",
              "    }\n",
              "    60% {\n",
              "      border-color: transparent;\n",
              "      border-right-color: var(--fill-color);\n",
              "    }\n",
              "    80% {\n",
              "      border-color: transparent;\n",
              "      border-right-color: var(--fill-color);\n",
              "      border-bottom-color: var(--fill-color);\n",
              "    }\n",
              "    90% {\n",
              "      border-color: transparent;\n",
              "      border-bottom-color: var(--fill-color);\n",
              "    }\n",
              "  }\n",
              "</style>\n",
              "\n",
              "      <script>\n",
              "        async function quickchart(key) {\n",
              "          const quickchartButtonEl =\n",
              "            document.querySelector('#' + key + ' button');\n",
              "          quickchartButtonEl.disabled = true;  // To prevent multiple clicks.\n",
              "          quickchartButtonEl.classList.add('colab-df-spinner');\n",
              "          try {\n",
              "            const charts = await google.colab.kernel.invokeFunction(\n",
              "                'suggestCharts', [key], {});\n",
              "          } catch (error) {\n",
              "            console.error('Error during call to suggestCharts:', error);\n",
              "          }\n",
              "          quickchartButtonEl.classList.remove('colab-df-spinner');\n",
              "          quickchartButtonEl.classList.add('colab-df-quickchart-complete');\n",
              "        }\n",
              "        (() => {\n",
              "          let quickchartButtonEl =\n",
              "            document.querySelector('#df-2d8cbcb2-341d-4be0-9555-2c9cac3a9388 button');\n",
              "          quickchartButtonEl.style.display =\n",
              "            google.colab.kernel.accessAllowed ? 'block' : 'none';\n",
              "        })();\n",
              "      </script>\n",
              "    </div>\n",
              "\n",
              "  <div id=\"id_3558f830-be10-4583-8bf8-321b7bf2d1e1\">\n",
              "    <style>\n",
              "      .colab-df-generate {\n",
              "        background-color: #E8F0FE;\n",
              "        border: none;\n",
              "        border-radius: 50%;\n",
              "        cursor: pointer;\n",
              "        display: none;\n",
              "        fill: #1967D2;\n",
              "        height: 32px;\n",
              "        padding: 0 0 0 0;\n",
              "        width: 32px;\n",
              "      }\n",
              "\n",
              "      .colab-df-generate:hover {\n",
              "        background-color: #E2EBFA;\n",
              "        box-shadow: 0px 1px 2px rgba(60, 64, 67, 0.3), 0px 1px 3px 1px rgba(60, 64, 67, 0.15);\n",
              "        fill: #174EA6;\n",
              "      }\n",
              "\n",
              "      [theme=dark] .colab-df-generate {\n",
              "        background-color: #3B4455;\n",
              "        fill: #D2E3FC;\n",
              "      }\n",
              "\n",
              "      [theme=dark] .colab-df-generate:hover {\n",
              "        background-color: #434B5C;\n",
              "        box-shadow: 0px 1px 3px 1px rgba(0, 0, 0, 0.15);\n",
              "        filter: drop-shadow(0px 1px 2px rgba(0, 0, 0, 0.3));\n",
              "        fill: #FFFFFF;\n",
              "      }\n",
              "    </style>\n",
              "    <button class=\"colab-df-generate\" onclick=\"generateWithVariable('df')\"\n",
              "            title=\"Generate code using this dataframe.\"\n",
              "            style=\"display:none;\">\n",
              "\n",
              "  <svg xmlns=\"http://www.w3.org/2000/svg\" height=\"24px\"viewBox=\"0 0 24 24\"\n",
              "       width=\"24px\">\n",
              "    <path d=\"M7,19H8.4L18.45,9,17,7.55,7,17.6ZM5,21V16.75L18.45,3.32a2,2,0,0,1,2.83,0l1.4,1.43a1.91,1.91,0,0,1,.58,1.4,1.91,1.91,0,0,1-.58,1.4L9.25,21ZM18.45,9,17,7.55Zm-12,3A5.31,5.31,0,0,0,4.9,8.1,5.31,5.31,0,0,0,1,6.5,5.31,5.31,0,0,0,4.9,4.9,5.31,5.31,0,0,0,6.5,1,5.31,5.31,0,0,0,8.1,4.9,5.31,5.31,0,0,0,12,6.5,5.46,5.46,0,0,0,6.5,12Z\"/>\n",
              "  </svg>\n",
              "    </button>\n",
              "    <script>\n",
              "      (() => {\n",
              "      const buttonEl =\n",
              "        document.querySelector('#id_3558f830-be10-4583-8bf8-321b7bf2d1e1 button.colab-df-generate');\n",
              "      buttonEl.style.display =\n",
              "        google.colab.kernel.accessAllowed ? 'block' : 'none';\n",
              "\n",
              "      buttonEl.onclick = () => {\n",
              "        google.colab.notebook.generateWithVariable('df');\n",
              "      }\n",
              "      })();\n",
              "    </script>\n",
              "  </div>\n",
              "\n",
              "    </div>\n",
              "  </div>\n"
            ],
            "application/vnd.google.colaboratory.intrinsic+json": {
              "type": "dataframe",
              "variable_name": "df",
              "summary": "{\n  \"name\": \"df\",\n  \"rows\": 4,\n  \"fields\": [\n    {\n      \"column\": \"cd\",\n      \"properties\": {\n        \"dtype\": \"string\",\n        \"num_unique_values\": 4,\n        \"samples\": [\n          \"A095570\",\n          \"A054620\",\n          \"A060310\"\n        ],\n        \"semantic_type\": \"\",\n        \"description\": \"\"\n      }\n    },\n    {\n      \"column\": \"nm\",\n      \"properties\": {\n        \"dtype\": \"string\",\n        \"num_unique_values\": 4,\n        \"samples\": [\n          \"AJ\\ub124\\ud2b8\\uc6cd\\uc2a4\",\n          \"APS\\ud640\\ub529\\uc2a4\",\n          \"3S\"\n        ],\n        \"semantic_type\": \"\",\n        \"description\": \"\"\n      }\n    },\n    {\n      \"column\": \"close\",\n      \"properties\": {\n        \"dtype\": \"string\",\n        \"num_unique_values\": 4,\n        \"samples\": [\n          \"6,250\",\n          \"19,400\",\n          \"2,920\"\n        ],\n        \"semantic_type\": \"\",\n        \"description\": \"\"\n      }\n    }\n  ]\n}"
            }
          },
          "metadata": {},
          "execution_count": 59
        }
      ]
    },
    {
      "cell_type": "code",
      "source": [
        "df['cd'] = df['cd'].str[1:]\n",
        "df['close'] = df['close'].str.replace(',','').astype(np.int64)\n",
        "print(df)"
      ],
      "metadata": {
        "colab": {
          "base_uri": "https://localhost:8080/"
        },
        "id": "dhHe4TDRv6Ap",
        "outputId": "716fe85e-8c76-4923-991e-4a0d9641a181"
      },
      "execution_count": 62,
      "outputs": [
        {
          "output_type": "stream",
          "name": "stdout",
          "text": [
            "      cd      nm  close\n",
            "0  60310      3S   2920\n",
            "1  95570  AJ네트웍스   6250\n",
            "2  06840   AK홀딩스  29700\n",
            "3  54620  APS홀딩스  19400\n"
          ]
        }
      ]
    },
    {
      "cell_type": "code",
      "source": [],
      "metadata": {
        "id": "PyI3PWErscpm"
      },
      "execution_count": null,
      "outputs": []
    }
  ]
}